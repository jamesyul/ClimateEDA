{
 "cells": [
  {
   "cell_type": "markdown",
   "metadata": {},
   "source": [
    "Importamos bibliotecas necesarias"
   ]
  },
  {
   "cell_type": "code",
   "execution_count": 1,
   "metadata": {},
   "outputs": [],
   "source": [
    "import pandas as pd\n",
    "import os"
   ]
  },
  {
   "cell_type": "markdown",
   "metadata": {},
   "source": [
    "Cargamos los datasets limpios"
   ]
  },
  {
   "cell_type": "code",
   "execution_count": 2,
   "metadata": {},
   "outputs": [
    {
     "name": "stderr",
     "output_type": "stream",
     "text": [
      "/var/folders/5k/vqn87b312md3sy0fqhdxhz1c0000gn/T/ipykernel_14655/1038914214.py:1: DtypeWarning: Columns (9) have mixed types. Specify dtype option on import or set low_memory=False.\n",
      "  df_production = pd.read_csv('../../data/processed/production_crops_cleaned.csv')\n"
     ]
    }
   ],
   "source": [
    "df_production = pd.read_csv('../../data/processed/production_crops_cleaned.csv')\n",
    "df_temperatures = pd.read_csv('../../data/processed/global_temperatures_cleaned.csv')\n",
    "df_pesticides = pd.read_csv('../../data/processed/pesticides_use_cleaned.csv')"
   ]
  },
  {
   "cell_type": "markdown",
   "metadata": {},
   "source": [
    "Renombramos columnas para estandarizar"
   ]
  },
  {
   "cell_type": "code",
   "execution_count": 3,
   "metadata": {},
   "outputs": [],
   "source": [
    "df_production = df_production.rename(columns={'Area': 'Country'})\n",
    "df_pesticides = df_pesticides.rename(columns={'Area': 'Country'})"
   ]
  },
  {
   "cell_type": "markdown",
   "metadata": {},
   "source": [
    "Unimos los datasets por 'Country' y 'Year', primero uniremos producción y temperatura"
   ]
  },
  {
   "cell_type": "code",
   "execution_count": null,
   "metadata": {},
   "outputs": [],
   "source": [
    "df_merged = pd.merge(\n",
    "    df_production,\n",
    "    df_temperatures,\n",
    "    on=['Country', 'Year'],\n",
    "    how='inner'\n",
    ")"
   ]
  },
  {
   "cell_type": "markdown",
   "metadata": {},
   "source": [
    "Luego unimos con pesticidas"
   ]
  },
  {
   "cell_type": "code",
   "execution_count": null,
   "metadata": {},
   "outputs": [],
   "source": [
    "df_merged = pd.merge(\n",
    "    df_merged,\n",
    "    df_pesticides,\n",
    "    on=['Country', 'Year'],\n",
    "    how='inner'\n",
    ")"
   ]
  },
  {
   "cell_type": "markdown",
   "metadata": {},
   "source": [
    "Seleccionamos columnas relevantes"
   ]
  },
  {
   "cell_type": "code",
   "execution_count": null,
   "metadata": {},
   "outputs": [],
   "source": [
    "columns_to_keep = [\n",
    "    'Country', 'Year', 'Item', 'Element', 'Unit_x', 'Value',  # De producción\n",
    "    'AverageTemperature',  # De temperaturas\n",
    "    'Unit_y', 'Value_y'  # De pesticidas\n",
    "]\n",
    "df_merged = df_merged[columns_to_keep]"
   ]
  },
  {
   "cell_type": "markdown",
   "metadata": {},
   "source": [
    "Renombramos columnas para mayor claridad"
   ]
  },
  {
   "cell_type": "code",
   "execution_count": null,
   "metadata": {},
   "outputs": [],
   "source": [
    "df_merged = df_merged.rename(columns={\n",
    "    'Unit_x': 'Production_Unit',\n",
    "    'Value': 'Production_Value',\n",
    "    'Unit_y': 'Pesticides_Unit',\n",
    "    'Value_y': 'Pesticides_Value'\n",
    "})"
   ]
  },
  {
   "cell_type": "markdown",
   "metadata": {},
   "source": [
    "Guardamos el dataset integrado"
   ]
  },
  {
   "cell_type": "code",
   "execution_count": null,
   "metadata": {},
   "outputs": [],
   "source": [
    "df_merged.to_csv('../data/processed/integrated_data.csv', index=False)"
   ]
  },
  {
   "cell_type": "markdown",
   "metadata": {},
   "source": [
    "Veriricamos el resultado"
   ]
  },
  {
   "cell_type": "code",
   "execution_count": null,
   "metadata": {},
   "outputs": [],
   "source": [
    "print(\"Primeras filas del dataset integrado:\")\n",
    "print(df_merged.head())\n",
    "print(\"\\nInformación del dataset integrado:\")\n",
    "print(df_merged.info())"
   ]
  }
 ],
 "metadata": {
  "kernelspec": {
   "display_name": "env",
   "language": "python",
   "name": "python3"
  },
  "language_info": {
   "codemirror_mode": {
    "name": "ipython",
    "version": 3
   },
   "file_extension": ".py",
   "mimetype": "text/x-python",
   "name": "python",
   "nbconvert_exporter": "python",
   "pygments_lexer": "ipython3",
   "version": "3.12.4"
  }
 },
 "nbformat": 4,
 "nbformat_minor": 2
}

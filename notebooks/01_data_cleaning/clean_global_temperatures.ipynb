{
 "cells": [
  {
   "cell_type": "markdown",
   "metadata": {},
   "source": [
    "Importamos las librerías necesarias"
   ]
  },
  {
   "cell_type": "code",
   "execution_count": 13,
   "metadata": {},
   "outputs": [],
   "source": [
    "import pandas as pd\n",
    "import os"
   ]
  },
  {
   "cell_type": "markdown",
   "metadata": {},
   "source": [
    "Cargamos el archivo inicial"
   ]
  },
  {
   "cell_type": "code",
   "execution_count": 14,
   "metadata": {},
   "outputs": [],
   "source": [
    "df_temperatures = pd.read_csv('../../data/raw/GlobalLandTemperaturesByCity.csv')"
   ]
  },
  {
   "cell_type": "markdown",
   "metadata": {},
   "source": [
    "Realizamos una exploración inicianl"
   ]
  },
  {
   "cell_type": "code",
   "execution_count": 15,
   "metadata": {},
   "outputs": [
    {
     "name": "stdout",
     "output_type": "stream",
     "text": [
      "Exploración inicial\n",
      "Primeras filas:\n",
      "           dt  AverageTemperature  AverageTemperatureUncertainty   City  \\\n",
      "0  1743-11-01               6.068                          1.737  Århus   \n",
      "1  1743-12-01                 NaN                            NaN  Århus   \n",
      "2  1744-01-01                 NaN                            NaN  Århus   \n",
      "3  1744-02-01                 NaN                            NaN  Århus   \n",
      "4  1744-03-01                 NaN                            NaN  Århus   \n",
      "\n",
      "   Country Latitude Longitude  \n",
      "0  Denmark   57.05N    10.33E  \n",
      "1  Denmark   57.05N    10.33E  \n",
      "2  Denmark   57.05N    10.33E  \n",
      "3  Denmark   57.05N    10.33E  \n",
      "4  Denmark   57.05N    10.33E  \n",
      "\n",
      "Información del dataset:\n",
      "<class 'pandas.core.frame.DataFrame'>\n",
      "RangeIndex: 8599212 entries, 0 to 8599211\n",
      "Data columns (total 7 columns):\n",
      " #   Column                         Dtype  \n",
      "---  ------                         -----  \n",
      " 0   dt                             object \n",
      " 1   AverageTemperature             float64\n",
      " 2   AverageTemperatureUncertainty  float64\n",
      " 3   City                           object \n",
      " 4   Country                        object \n",
      " 5   Latitude                       object \n",
      " 6   Longitude                      object \n",
      "dtypes: float64(2), object(5)\n",
      "memory usage: 459.2+ MB\n",
      "None\n",
      "\n",
      "Estadísticas descriptivas:\n",
      "       AverageTemperature  AverageTemperatureUncertainty\n",
      "count        8.235082e+06                   8.235082e+06\n",
      "mean         1.672743e+01                   1.028575e+00\n",
      "std          1.035344e+01                   1.129733e+00\n",
      "min         -4.270400e+01                   3.400000e-02\n",
      "25%          1.029900e+01                   3.370000e-01\n",
      "50%          1.883100e+01                   5.910000e-01\n",
      "75%          2.521000e+01                   1.349000e+00\n",
      "max          3.965100e+01                   1.539600e+01\n",
      "\n",
      "Valores nulos por columna:\n",
      "dt                                    0\n",
      "AverageTemperature               364130\n",
      "AverageTemperatureUncertainty    364130\n",
      "City                                  0\n",
      "Country                               0\n",
      "Latitude                              0\n",
      "Longitude                             0\n",
      "dtype: int64\n"
     ]
    }
   ],
   "source": [
    "print(\"Exploración inicial\")\n",
    "print(\"Primeras filas:\")\n",
    "print(df_temperatures.head())\n",
    "print(\"\\nInformación del dataset:\")\n",
    "print(df_temperatures.info())\n",
    "print(\"\\nEstadísticas descriptivas:\")\n",
    "print(df_temperatures.describe())\n",
    "print(\"\\nValores nulos por columna:\")\n",
    "print(df_temperatures.isnull().sum())"
   ]
  },
  {
   "cell_type": "markdown",
   "metadata": {},
   "source": [
    "Verificamos duplicados"
   ]
  },
  {
   "cell_type": "code",
   "execution_count": 16,
   "metadata": {},
   "outputs": [
    {
     "name": "stdout",
     "output_type": "stream",
     "text": [
      "\n",
      "Número de duplicados: 0\n"
     ]
    }
   ],
   "source": [
    "print(\"\\nNúmero de duplicados:\", df_temperatures.duplicated().sum())\n",
    "df_temperatures=df_temperatures.drop_duplicates()"
   ]
  },
  {
   "cell_type": "markdown",
   "metadata": {},
   "source": [
    "Mantenemos las columnas que necesitamos para el análisis"
   ]
  },
  {
   "cell_type": "code",
   "execution_count": 17,
   "metadata": {},
   "outputs": [],
   "source": [
    "columns_to_keep = ['dt', 'AverageTemperature', 'City', 'Country', 'Latitude', 'Longitude']\n",
    "df_temperatures_subset = df_temperatures[columns_to_keep]"
   ]
  },
  {
   "cell_type": "markdown",
   "metadata": {},
   "source": [
    "Transformamos la columna de fecha para extraer el año"
   ]
  },
  {
   "cell_type": "code",
   "execution_count": 18,
   "metadata": {},
   "outputs": [
    {
     "name": "stderr",
     "output_type": "stream",
     "text": [
      "/var/folders/5k/vqn87b312md3sy0fqhdxhz1c0000gn/T/ipykernel_5272/68062681.py:1: SettingWithCopyWarning: \n",
      "A value is trying to be set on a copy of a slice from a DataFrame.\n",
      "Try using .loc[row_indexer,col_indexer] = value instead\n",
      "\n",
      "See the caveats in the documentation: https://pandas.pydata.org/pandas-docs/stable/user_guide/indexing.html#returning-a-view-versus-a-copy\n",
      "  df_temperatures_subset['dt']=pd.to_datetime(df_temperatures_subset['dt'])\n"
     ]
    }
   ],
   "source": [
    "df_temperatures_subset['dt']=pd.to_datetime(df_temperatures_subset['dt'])\n",
    "df_temperatures_subset['Year']=df_temperatures_subset['dt'].dt.year"
   ]
  },
  {
   "cell_type": "markdown",
   "metadata": {},
   "source": [
    "Eliminamos la columna 'dt' ya que solo necesitamos el año"
   ]
  },
  {
   "cell_type": "code",
   "execution_count": 19,
   "metadata": {},
   "outputs": [],
   "source": [
    "df_temperatures_subset=df_temperatures_subset.drop(columns=['dt'])"
   ]
  },
  {
   "cell_type": "markdown",
   "metadata": {},
   "source": [
    "Estandarizamos formatos de columnas categóricas"
   ]
  },
  {
   "cell_type": "code",
   "execution_count": 20,
   "metadata": {},
   "outputs": [],
   "source": [
    "df_temperatures_subset['City']=df_temperatures_subset['City'].str.strip().str.title()\n",
    "df_temperatures_subset['Country']=df_temperatures_subset['Country'].str.strip().str.title()"
   ]
  },
  {
   "cell_type": "markdown",
   "metadata": {},
   "source": [
    "Convertimos los tipos de datos"
   ]
  },
  {
   "cell_type": "code",
   "execution_count": 21,
   "metadata": {},
   "outputs": [],
   "source": [
    "df_temperatures_subset['AverageTemperature']=pd.to_numeric(df_temperatures_subset['AverageTemperature'], errors='coerce')"
   ]
  },
  {
   "cell_type": "markdown",
   "metadata": {},
   "source": [
    "Manejamos valores nulos"
   ]
  },
  {
   "cell_type": "code",
   "execution_count": 22,
   "metadata": {},
   "outputs": [],
   "source": [
    "df_temperatures_subset=df_temperatures_subset.dropna(subset=['AverageTemperature'])"
   ]
  },
  {
   "cell_type": "markdown",
   "metadata": {},
   "source": [
    "Agrupamos por país y año para obtener la temperatura promedio"
   ]
  },
  {
   "cell_type": "code",
   "execution_count": 23,
   "metadata": {},
   "outputs": [],
   "source": [
    "df_temperatures_clean=df_temperatures_subset.groupby(['Country', 'Year'])['AverageTemperature'].mean().reset_index()"
   ]
  },
  {
   "cell_type": "markdown",
   "metadata": {},
   "source": [
    "Guardamos el dataset limpio"
   ]
  },
  {
   "cell_type": "code",
   "execution_count": 24,
   "metadata": {},
   "outputs": [],
   "source": [
    "df_temperatures_subset.to_csv('../../data/processed/global_temperatures_cleaned.csv', index=False)"
   ]
  },
  {
   "cell_type": "markdown",
   "metadata": {},
   "source": [
    "Guardamos una versión intermedia antes de agrupar"
   ]
  },
  {
   "cell_type": "code",
   "execution_count": 25,
   "metadata": {},
   "outputs": [],
   "source": [
    "df_temperatures_subset.to_csv('../../data/interim/global_temperatures_interim.csv', index=False)"
   ]
  },
  {
   "cell_type": "markdown",
   "metadata": {},
   "source": [
    "Verificamos el resultado final"
   ]
  },
  {
   "cell_type": "code",
   "execution_count": 26,
   "metadata": {},
   "outputs": [
    {
     "name": "stdout",
     "output_type": "stream",
     "text": [
      "\n",
      "Primeras filas del dataset limpio:\n",
      "       Country  Year  AverageTemperature\n",
      "0  Afghanistan  1833           13.091150\n",
      "1  Afghanistan  1834           13.093600\n",
      "2  Afghanistan  1835           13.959233\n",
      "3  Afghanistan  1837           13.914846\n",
      "4  Afghanistan  1838           14.251397\n",
      "\n",
      "Información del dataset limpio:\n",
      "<class 'pandas.core.frame.DataFrame'>\n",
      "RangeIndex: 31556 entries, 0 to 31555\n",
      "Data columns (total 3 columns):\n",
      " #   Column              Non-Null Count  Dtype  \n",
      "---  ------              --------------  -----  \n",
      " 0   Country             31556 non-null  object \n",
      " 1   Year                31556 non-null  int32  \n",
      " 2   AverageTemperature  31556 non-null  float64\n",
      "dtypes: float64(1), int32(1), object(1)\n",
      "memory usage: 616.5+ KB\n",
      "None\n"
     ]
    }
   ],
   "source": [
    "print(\"\\nPrimeras filas del dataset limpio:\")\n",
    "print(df_temperatures_clean.head())\n",
    "print(\"\\nInformación del dataset limpio:\")\n",
    "print(df_temperatures_clean.info())"
   ]
  }
 ],
 "metadata": {
  "kernelspec": {
   "display_name": "env",
   "language": "python",
   "name": "python3"
  },
  "language_info": {
   "codemirror_mode": {
    "name": "ipython",
    "version": 3
   },
   "file_extension": ".py",
   "mimetype": "text/x-python",
   "name": "python",
   "nbconvert_exporter": "python",
   "pygments_lexer": "ipython3",
   "version": "3.12.4"
  }
 },
 "nbformat": 4,
 "nbformat_minor": 2
}

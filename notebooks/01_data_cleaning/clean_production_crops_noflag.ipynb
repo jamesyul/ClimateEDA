{
 "cells": [
  {
   "cell_type": "markdown",
   "metadata": {},
   "source": [
    "Importamos las librerías necesarias"
   ]
  },
  {
   "cell_type": "code",
   "execution_count": 4,
   "metadata": {},
   "outputs": [],
   "source": [
    "import pandas as pd\n",
    "import os"
   ]
  },
  {
   "cell_type": "markdown",
   "metadata": {},
   "source": [
    "Cargamos el archivo"
   ]
  },
  {
   "cell_type": "code",
   "execution_count": 5,
   "metadata": {},
   "outputs": [],
   "source": [
    "df_production_noflag = pd.read_csv('../../data/raw/Production_Crops_Livestock_E_All_Data_NOFLAG.csv')"
   ]
  },
  {
   "cell_type": "markdown",
   "metadata": {},
   "source": [
    "Realizamos una epxloración inicial"
   ]
  },
  {
   "cell_type": "code",
   "execution_count": 6,
   "metadata": {},
   "outputs": [
    {
     "name": "stdout",
     "output_type": "stream",
     "text": [
      "Exploración inicial\n",
      "Primeras filas:\n",
      "   Area Code Area Code (M49)         Area  Item Code Item Code (CPC)  \\\n",
      "0          2            '004  Afghanistan        221          '01371   \n",
      "1          2            '004  Afghanistan        221          '01371   \n",
      "2          2            '004  Afghanistan        221          '01371   \n",
      "3          2            '004  Afghanistan        711          '01654   \n",
      "4          2            '004  Afghanistan        711          '01654   \n",
      "\n",
      "                                                Item  Element Code  \\\n",
      "0                                  Almonds, in shell          5312   \n",
      "1                                  Almonds, in shell          5412   \n",
      "2                                  Almonds, in shell          5510   \n",
      "3  Anise, badian, coriander, cumin, caraway, fenn...          5312   \n",
      "4  Anise, badian, coriander, cumin, caraway, fenn...          5412   \n",
      "\n",
      "          Element   Unit  Y1961  ...    Y2014    Y2015    Y2016    Y2017  \\\n",
      "0  Area harvested     ha    0.0  ...  13703.0  14676.0  19481.0  19793.0   \n",
      "1           Yield  kg/ha    NaN  ...   1999.6   1652.1   1685.9   1378.8   \n",
      "2      Production      t    0.0  ...  27400.0  24246.0  32843.0  27291.0   \n",
      "3  Area harvested     ha    NaN  ...  30000.0  25000.0  24500.0  26160.0   \n",
      "4           Yield  kg/ha    NaN  ...    716.7    720.0    707.5    697.0   \n",
      "\n",
      "     Y2018    Y2019    Y2020    Y2021    Y2022    Y2023  \n",
      "0  20053.0  29203.0  22134.0  36862.0  36462.0  37000.0  \n",
      "1   1716.1   1308.3   1775.9   1743.2   1742.0   1810.8  \n",
      "2  34413.0  38205.0  39307.0  64256.0  63515.0  67000.0  \n",
      "3  25220.0  25293.0  25558.0  25357.0  25403.0  25439.0  \n",
      "4    708.0    704.1    703.0    705.0    704.0    704.0  \n",
      "\n",
      "[5 rows x 72 columns]\n",
      "\n",
      "Información del dataset:\n",
      "<class 'pandas.core.frame.DataFrame'>\n",
      "RangeIndex: 79711 entries, 0 to 79710\n",
      "Data columns (total 72 columns):\n",
      " #   Column           Non-Null Count  Dtype  \n",
      "---  ------           --------------  -----  \n",
      " 0   Area Code        79711 non-null  int64  \n",
      " 1   Area Code (M49)  79711 non-null  object \n",
      " 2   Area             79711 non-null  object \n",
      " 3   Item Code        79711 non-null  int64  \n",
      " 4   Item Code (CPC)  79711 non-null  object \n",
      " 5   Item             79711 non-null  object \n",
      " 6   Element Code     79711 non-null  int64  \n",
      " 7   Element          79711 non-null  object \n",
      " 8   Unit             79711 non-null  object \n",
      " 9   Y1961            57370 non-null  float64\n",
      " 10  Y1962            57377 non-null  float64\n",
      " 11  Y1963            57376 non-null  float64\n",
      " 12  Y1964            57391 non-null  float64\n",
      " 13  Y1965            57386 non-null  float64\n",
      " 14  Y1966            57447 non-null  float64\n",
      " 15  Y1967            57451 non-null  float64\n",
      " 16  Y1968            57489 non-null  float64\n",
      " 17  Y1969            57495 non-null  float64\n",
      " 18  Y1970            57554 non-null  float64\n",
      " 19  Y1971            57568 non-null  float64\n",
      " 20  Y1972            57584 non-null  float64\n",
      " 21  Y1973            57591 non-null  float64\n",
      " 22  Y1974            57621 non-null  float64\n",
      " 23  Y1975            57677 non-null  float64\n",
      " 24  Y1976            57711 non-null  float64\n",
      " 25  Y1977            57795 non-null  float64\n",
      " 26  Y1978            57810 non-null  float64\n",
      " 27  Y1979            57884 non-null  float64\n",
      " 28  Y1980            58072 non-null  float64\n",
      " 29  Y1981            58138 non-null  float64\n",
      " 30  Y1982            58181 non-null  float64\n",
      " 31  Y1983            58225 non-null  float64\n",
      " 32  Y1984            58281 non-null  float64\n",
      " 33  Y1985            59890 non-null  float64\n",
      " 34  Y1986            60001 non-null  float64\n",
      " 35  Y1987            60123 non-null  float64\n",
      " 36  Y1988            60199 non-null  float64\n",
      " 37  Y1989            60404 non-null  float64\n",
      " 38  Y1990            61576 non-null  float64\n",
      " 39  Y1991            62097 non-null  float64\n",
      " 40  Y1992            67562 non-null  float64\n",
      " 41  Y1993            67937 non-null  float64\n",
      " 42  Y1994            68298 non-null  float64\n",
      " 43  Y1995            68536 non-null  float64\n",
      " 44  Y1996            68647 non-null  float64\n",
      " 45  Y1997            68818 non-null  float64\n",
      " 46  Y1998            69004 non-null  float64\n",
      " 47  Y1999            69273 non-null  float64\n",
      " 48  Y2000            69782 non-null  float64\n",
      " 49  Y2001            69892 non-null  float64\n",
      " 50  Y2002            69975 non-null  float64\n",
      " 51  Y2003            70324 non-null  float64\n",
      " 52  Y2004            70556 non-null  float64\n",
      " 53  Y2005            70648 non-null  float64\n",
      " 54  Y2006            70900 non-null  float64\n",
      " 55  Y2007            70124 non-null  float64\n",
      " 56  Y2008            70160 non-null  float64\n",
      " 57  Y2009            70200 non-null  float64\n",
      " 58  Y2010            70512 non-null  float64\n",
      " 59  Y2011            70585 non-null  float64\n",
      " 60  Y2012            70747 non-null  float64\n",
      " 61  Y2013            70797 non-null  float64\n",
      " 62  Y2014            71030 non-null  float64\n",
      " 63  Y2015            71096 non-null  float64\n",
      " 64  Y2016            71183 non-null  float64\n",
      " 65  Y2017            71410 non-null  float64\n",
      " 66  Y2018            70729 non-null  float64\n",
      " 67  Y2019            70822 non-null  float64\n",
      " 68  Y2020            70935 non-null  float64\n",
      " 69  Y2021            70991 non-null  float64\n",
      " 70  Y2022            71120 non-null  float64\n",
      " 71  Y2023            66145 non-null  float64\n",
      "dtypes: float64(63), int64(3), object(6)\n",
      "memory usage: 43.8+ MB\n",
      "None\n",
      "\n",
      "Estadísticas descriptivas:\n",
      "          Area Code     Item Code  Element Code         Y1961         Y1962  \\\n",
      "count  79711.000000  79711.000000  79711.000000  5.737000e+04  5.737700e+04   \n",
      "mean    1313.302568    865.879251   5408.833310  1.514965e+06  1.549240e+06   \n",
      "std     2194.895639   1461.515725    101.505636  1.586835e+07  1.615213e+07   \n",
      "min        1.000000     15.000000   5111.000000  0.000000e+00  0.000000e+00   \n",
      "25%       89.000000    358.000000   5312.000000  8.362500e+02  8.625000e+02   \n",
      "50%      169.000000    587.000000   5412.000000  7.500000e+03  7.700000e+03   \n",
      "75%      272.000000   1037.000000   5510.000000  6.655310e+04  6.874600e+04   \n",
      "max     5817.000000  17530.000000   5513.000000  1.342210e+09  1.360092e+09   \n",
      "\n",
      "              Y1963         Y1964         Y1965         Y1966         Y1967  \\\n",
      "count  5.737600e+04  5.739100e+04  5.738600e+04  5.744700e+04  5.745100e+04   \n",
      "mean   1.582932e+06  1.630178e+06  1.663916e+06  1.704733e+06  1.749159e+06   \n",
      "std    1.645200e+07  1.694783e+07  1.731071e+07  1.775626e+07  1.817071e+07   \n",
      "min    0.000000e+00  0.000000e+00  0.000000e+00  0.000000e+00  0.000000e+00   \n",
      "25%    8.929750e+02  9.100000e+02  9.343750e+02  9.500000e+02  9.885000e+02   \n",
      "50%    7.981640e+03  8.000000e+03  8.130950e+03  8.400000e+03  8.647000e+03   \n",
      "75%    7.060525e+04  7.305150e+04  7.500000e+04  7.721212e+04  7.975700e+04   \n",
      "max    1.368767e+09  1.381032e+09  1.397533e+09  1.408673e+09  1.428836e+09   \n",
      "\n",
      "       ...         Y2014         Y2015         Y2016         Y2017  \\\n",
      "count  ...  7.103000e+04  7.109600e+04  7.118300e+04  7.141000e+04   \n",
      "mean   ...  3.156620e+06  3.184441e+06  3.226641e+06  3.273442e+06   \n",
      "std    ...  3.576517e+07  3.611638e+07  3.656186e+07  3.692842e+07   \n",
      "min    ...  0.000000e+00  0.000000e+00  0.000000e+00  0.000000e+00   \n",
      "25%    ...  1.524205e+03  1.543307e+03  1.560000e+03  1.557030e+03   \n",
      "50%    ...  1.207270e+04  1.223683e+04  1.234740e+04  1.237300e+04   \n",
      "75%    ...  1.211520e+05  1.225511e+05  1.234405e+05  1.241075e+05   \n",
      "max    ...  2.818170e+09  2.837867e+09  2.912244e+09  2.961412e+09   \n",
      "\n",
      "              Y2018         Y2019         Y2020         Y2021         Y2022  \\\n",
      "count  7.072900e+04  7.082200e+04  7.093500e+04  7.099100e+04  7.112000e+04   \n",
      "mean   3.329584e+06  3.345364e+06  3.384600e+06  3.464475e+06  3.504832e+06   \n",
      "std    3.735102e+07  3.722087e+07  3.759316e+07  3.870242e+07  3.929182e+07   \n",
      "min    0.000000e+00  0.000000e+00  0.000000e+00  0.000000e+00  0.000000e+00   \n",
      "25%    1.442300e+03  1.433050e+03  1.432300e+03  1.437730e+03  1.441750e+03   \n",
      "50%    1.222000e+04  1.225000e+04  1.218570e+04  1.214760e+04  1.220000e+04   \n",
      "75%    1.255072e+05  1.269745e+05  1.263125e+05  1.270417e+05  1.278680e+05   \n",
      "max    2.901857e+09  2.964207e+09  3.008965e+09  3.070651e+09  3.073689e+09   \n",
      "\n",
      "              Y2023  \n",
      "count  6.614500e+04  \n",
      "mean   3.752891e+06  \n",
      "std    4.156594e+07  \n",
      "min    0.000000e+00  \n",
      "25%    1.389000e+03  \n",
      "50%    1.174500e+04  \n",
      "75%    1.227800e+05  \n",
      "max    3.134294e+09  \n",
      "\n",
      "[8 rows x 66 columns]\n",
      "\n",
      "Valores nulos por columna:\n",
      "Area Code              0\n",
      "Area Code (M49)        0\n",
      "Area                   0\n",
      "Item Code              0\n",
      "Item Code (CPC)        0\n",
      "                   ...  \n",
      "Y2019               8889\n",
      "Y2020               8776\n",
      "Y2021               8720\n",
      "Y2022               8591\n",
      "Y2023              13566\n",
      "Length: 72, dtype: int64\n"
     ]
    }
   ],
   "source": [
    "print(\"Exploración inicial\")\n",
    "print(\"Primeras filas:\")\n",
    "print(df_production_noflag.head())\n",
    "print(\"\\nInformación del dataset:\")\n",
    "print(df_production_noflag.info())\n",
    "print(\"\\nEstadísticas descriptivas:\")\n",
    "print(df_production_noflag.describe())\n",
    "print(\"\\nValores nulos por columna:\")\n",
    "print(df_production_noflag.isnull().sum())"
   ]
  },
  {
   "cell_type": "markdown",
   "metadata": {},
   "source": [
    "Verificamos duplicados"
   ]
  },
  {
   "cell_type": "code",
   "execution_count": 7,
   "metadata": {},
   "outputs": [
    {
     "name": "stdout",
     "output_type": "stream",
     "text": [
      "\n",
      "Número de duplicados: 0\n"
     ]
    }
   ],
   "source": [
    "print(\"\\nNúmero de duplicados:\", df_production_noflag.duplicated().sum())\n",
    "df_production_noflag = df_production_noflag.drop_duplicates()"
   ]
  },
  {
   "cell_type": "markdown",
   "metadata": {},
   "source": [
    "Definimos las columnas para mantener como identificadores"
   ]
  },
  {
   "cell_type": "code",
   "execution_count": 8,
   "metadata": {},
   "outputs": [],
   "source": [
    "id_vars = ['Area Code', 'Area', 'Item Code', 'Item', 'Element Code', 'Element', 'Unit']"
   ]
  },
  {
   "cell_type": "markdown",
   "metadata": {},
   "source": [
    "Identificamos las columnas de años"
   ]
  },
  {
   "cell_type": "code",
   "execution_count": 9,
   "metadata": {},
   "outputs": [],
   "source": [
    "year_columns = [col for col in df_production_noflag.columns if col.startswith('Y')]"
   ]
  },
  {
   "cell_type": "markdown",
   "metadata": {},
   "source": [
    "Cremos un subconjunto con las columnas deseadas"
   ]
  },
  {
   "cell_type": "code",
   "execution_count": 10,
   "metadata": {},
   "outputs": [],
   "source": [
    "df_production_subset = df_production_noflag[id_vars + year_columns]"
   ]
  },
  {
   "cell_type": "markdown",
   "metadata": {},
   "source": [
    "Transformamos a formato long"
   ]
  },
  {
   "cell_type": "code",
   "execution_count": 11,
   "metadata": {},
   "outputs": [],
   "source": [
    "df_clean = pd.melt(\n",
    "    df_production_subset,\n",
    "    id_vars=id_vars,\n",
    "    value_vars=year_columns,\n",
    "    var_name='Year',\n",
    "    value_name='Value'\n",
    ")"
   ]
  },
  {
   "cell_type": "markdown",
   "metadata": {},
   "source": [
    "Extraemos el año de la columnas 'Year', además de retirar el prefijo 'Y'"
   ]
  },
  {
   "cell_type": "code",
   "execution_count": 12,
   "metadata": {},
   "outputs": [],
   "source": [
    "df_clean['Year'] = df_clean['Year'].str.extract(r'(\\d{4})').astype(int)"
   ]
  },
  {
   "cell_type": "markdown",
   "metadata": {},
   "source": [
    "Estandarizamos formatos de columnas categóricas"
   ]
  },
  {
   "cell_type": "code",
   "execution_count": 13,
   "metadata": {},
   "outputs": [],
   "source": [
    "df_clean['Area'] = df_clean['Area'].str.strip().str.title()\n",
    "df_clean['Item'] = df_clean['Item'].str.strip().str.title()\n",
    "df_clean['Element'] = df_clean['Element'].str.strip().str.title()"
   ]
  },
  {
   "cell_type": "markdown",
   "metadata": {},
   "source": [
    "Convertimos tipos de datos"
   ]
  },
  {
   "cell_type": "code",
   "execution_count": 14,
   "metadata": {},
   "outputs": [],
   "source": [
    "df_clean['Value'] = pd.to_numeric(df_clean['Value'], errors='coerce')"
   ]
  },
  {
   "cell_type": "markdown",
   "metadata": {},
   "source": [
    "Manejamos valores nulo en 'Value'"
   ]
  },
  {
   "cell_type": "code",
   "execution_count": 15,
   "metadata": {},
   "outputs": [],
   "source": [
    "df_clean = df_clean.dropna(subset=['Value'])"
   ]
  },
  {
   "cell_type": "markdown",
   "metadata": {},
   "source": [
    "Guardamos el dataset limpio"
   ]
  },
  {
   "cell_type": "code",
   "execution_count": 16,
   "metadata": {},
   "outputs": [],
   "source": [
    "df_clean.to_csv('../../data/processed/production_crops_noflag_cleaned.csv', index=False)"
   ]
  },
  {
   "cell_type": "markdown",
   "metadata": {},
   "source": [
    "Guardamos una versión intermedia"
   ]
  },
  {
   "cell_type": "code",
   "execution_count": 17,
   "metadata": {},
   "outputs": [],
   "source": [
    "df_production_subset.to_csv('../../data/interim/production_crops_noflag_interim.csv', index=False)"
   ]
  },
  {
   "cell_type": "markdown",
   "metadata": {},
   "source": [
    "Verificamos el resultado final"
   ]
  },
  {
   "cell_type": "code",
   "execution_count": 18,
   "metadata": {},
   "outputs": [
    {
     "name": "stdout",
     "output_type": "stream",
     "text": [
      "\n",
      "Primeras filas del dataset limpio:\n",
      "   Area Code         Area  Item Code               Item  Element Code  \\\n",
      "0          2  Afghanistan        221  Almonds, In Shell          5312   \n",
      "2          2  Afghanistan        221  Almonds, In Shell          5510   \n",
      "6          2  Afghanistan        515             Apples          5312   \n",
      "7          2  Afghanistan        515             Apples          5412   \n",
      "8          2  Afghanistan        515             Apples          5510   \n",
      "\n",
      "          Element   Unit  Year    Value  \n",
      "0  Area Harvested     ha  1961      0.0  \n",
      "2      Production      t  1961      0.0  \n",
      "6  Area Harvested     ha  1961   2220.0  \n",
      "7           Yield  kg/ha  1961   6801.8  \n",
      "8      Production      t  1961  15100.0  \n",
      "\n",
      "Información del dataset limpio:\n",
      "<class 'pandas.core.frame.DataFrame'>\n",
      "Index: 4047502 entries, 0 to 5021792\n",
      "Data columns (total 9 columns):\n",
      " #   Column        Dtype  \n",
      "---  ------        -----  \n",
      " 0   Area Code     int64  \n",
      " 1   Area          object \n",
      " 2   Item Code     int64  \n",
      " 3   Item          object \n",
      " 4   Element Code  int64  \n",
      " 5   Element       object \n",
      " 6   Unit          object \n",
      " 7   Year          int64  \n",
      " 8   Value         float64\n",
      "dtypes: float64(1), int64(4), object(4)\n",
      "memory usage: 308.8+ MB\n",
      "None\n"
     ]
    }
   ],
   "source": [
    "print(\"\\nPrimeras filas del dataset limpio:\")\n",
    "print(df_clean.head())\n",
    "print(\"\\nInformación del dataset limpio:\")\n",
    "print(df_clean.info())"
   ]
  }
 ],
 "metadata": {
  "kernelspec": {
   "display_name": "env",
   "language": "python",
   "name": "python3"
  },
  "language_info": {
   "codemirror_mode": {
    "name": "ipython",
    "version": 3
   },
   "file_extension": ".py",
   "mimetype": "text/x-python",
   "name": "python",
   "nbconvert_exporter": "python",
   "pygments_lexer": "ipython3",
   "version": "3.12.4"
  }
 },
 "nbformat": 4,
 "nbformat_minor": 2
}

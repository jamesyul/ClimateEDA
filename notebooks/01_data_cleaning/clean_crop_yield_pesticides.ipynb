{
 "cells": [
  {
   "cell_type": "markdown",
   "metadata": {},
   "source": [
    "Importamos librerías necesarias"
   ]
  },
  {
   "cell_type": "code",
   "execution_count": 9,
   "metadata": {},
   "outputs": [],
   "source": [
    "import pandas as pd\n",
    "import os"
   ]
  },
  {
   "cell_type": "markdown",
   "metadata": {},
   "source": [
    "Cargamos el archivo"
   ]
  },
  {
   "cell_type": "code",
   "execution_count": 10,
   "metadata": {},
   "outputs": [],
   "source": [
    "df_pesticides=pd.read_csv('../../data/raw/Crop_Yield_Prediction_Pesticides.csv')"
   ]
  },
  {
   "cell_type": "markdown",
   "metadata": {},
   "source": [
    "Realizamos una exploración inicial"
   ]
  },
  {
   "cell_type": "code",
   "execution_count": 11,
   "metadata": {},
   "outputs": [
    {
     "name": "stdout",
     "output_type": "stream",
     "text": [
      "Exploración inicial\n",
      "Primeras filas:\n",
      "           Domain     Area Element                Item  Year  \\\n",
      "0  Pesticides Use  Albania     Use  Pesticides (total)  1990   \n",
      "1  Pesticides Use  Albania     Use  Pesticides (total)  1991   \n",
      "2  Pesticides Use  Albania     Use  Pesticides (total)  1992   \n",
      "3  Pesticides Use  Albania     Use  Pesticides (total)  1993   \n",
      "4  Pesticides Use  Albania     Use  Pesticides (total)  1994   \n",
      "\n",
      "                           Unit  Value  \n",
      "0  tonnes of active ingredients  121.0  \n",
      "1  tonnes of active ingredients  121.0  \n",
      "2  tonnes of active ingredients  121.0  \n",
      "3  tonnes of active ingredients  121.0  \n",
      "4  tonnes of active ingredients  201.0  \n",
      "\n",
      "Información del dataset:\n",
      "<class 'pandas.core.frame.DataFrame'>\n",
      "RangeIndex: 4349 entries, 0 to 4348\n",
      "Data columns (total 7 columns):\n",
      " #   Column   Non-Null Count  Dtype  \n",
      "---  ------   --------------  -----  \n",
      " 0   Domain   4349 non-null   object \n",
      " 1   Area     4349 non-null   object \n",
      " 2   Element  4349 non-null   object \n",
      " 3   Item     4349 non-null   object \n",
      " 4   Year     4349 non-null   int64  \n",
      " 5   Unit     4349 non-null   object \n",
      " 6   Value    4349 non-null   float64\n",
      "dtypes: float64(1), int64(1), object(5)\n",
      "memory usage: 238.0+ KB\n",
      "None\n",
      "\n",
      "Estadísticas descriptivas:\n",
      "              Year         Value\n",
      "count  4349.000000  4.349000e+03\n",
      "mean   2003.138883  2.030334e+04\n",
      "std       7.728044  1.177362e+05\n",
      "min    1990.000000  0.000000e+00\n",
      "25%    1996.000000  9.300000e+01\n",
      "50%    2003.000000  1.137560e+03\n",
      "75%    2010.000000  7.869000e+03\n",
      "max    2016.000000  1.807000e+06\n",
      "\n",
      "Valores nulos por columna:\n",
      "Domain     0\n",
      "Area       0\n",
      "Element    0\n",
      "Item       0\n",
      "Year       0\n",
      "Unit       0\n",
      "Value      0\n",
      "dtype: int64\n"
     ]
    }
   ],
   "source": [
    "print(\"Exploración inicial\")\n",
    "print(\"Primeras filas:\")\n",
    "print(df_pesticides.head())\n",
    "print(\"\\nInformación del dataset:\")\n",
    "print(df_pesticides.info())\n",
    "print(\"\\nEstadísticas descriptivas:\")\n",
    "print(df_pesticides.describe())\n",
    "print(\"\\nValores nulos por columna:\")\n",
    "print(df_pesticides.isnull().sum())"
   ]
  },
  {
   "cell_type": "markdown",
   "metadata": {},
   "source": [
    "Verificamos los duplicados"
   ]
  },
  {
   "cell_type": "code",
   "execution_count": 12,
   "metadata": {},
   "outputs": [
    {
     "name": "stdout",
     "output_type": "stream",
     "text": [
      "\n",
      "Número de duplicados: 0\n"
     ]
    }
   ],
   "source": [
    "print(\"\\nNúmero de duplicados:\", df_pesticides.duplicated().sum())\n",
    "df_pesticides = df_pesticides.drop_duplicates()"
   ]
  },
  {
   "cell_type": "markdown",
   "metadata": {},
   "source": [
    "Seleccionamos las columnas relevantes para el análisis, además si 'Domain' y 'Element' siempre tienen el mismo valor, podemos eliminarlas"
   ]
  },
  {
   "cell_type": "code",
   "execution_count": 13,
   "metadata": {},
   "outputs": [],
   "source": [
    "columns_to_keep = ['Area', 'Item', 'Year', 'Unit', 'Value']\n",
    "df_pesticides_subset = df_pesticides[columns_to_keep]"
   ]
  },
  {
   "cell_type": "markdown",
   "metadata": {},
   "source": [
    "Estandarizamos formatos de columnas categóricas"
   ]
  },
  {
   "cell_type": "code",
   "execution_count": 14,
   "metadata": {},
   "outputs": [
    {
     "name": "stderr",
     "output_type": "stream",
     "text": [
      "/var/folders/5k/vqn87b312md3sy0fqhdxhz1c0000gn/T/ipykernel_8154/4106940837.py:1: SettingWithCopyWarning: \n",
      "A value is trying to be set on a copy of a slice from a DataFrame.\n",
      "Try using .loc[row_indexer,col_indexer] = value instead\n",
      "\n",
      "See the caveats in the documentation: https://pandas.pydata.org/pandas-docs/stable/user_guide/indexing.html#returning-a-view-versus-a-copy\n",
      "  df_pesticides_subset['Area'] = df_pesticides_subset['Area'].str.strip().str.title()\n",
      "/var/folders/5k/vqn87b312md3sy0fqhdxhz1c0000gn/T/ipykernel_8154/4106940837.py:2: SettingWithCopyWarning: \n",
      "A value is trying to be set on a copy of a slice from a DataFrame.\n",
      "Try using .loc[row_indexer,col_indexer] = value instead\n",
      "\n",
      "See the caveats in the documentation: https://pandas.pydata.org/pandas-docs/stable/user_guide/indexing.html#returning-a-view-versus-a-copy\n",
      "  df_pesticides_subset['Item'] = df_pesticides_subset['Item'].str.strip().str.title()\n"
     ]
    }
   ],
   "source": [
    "df_pesticides_subset['Area'] = df_pesticides_subset['Area'].str.strip().str.title()\n",
    "df_pesticides_subset['Item'] = df_pesticides_subset['Item'].str.strip().str.title()"
   ]
  },
  {
   "cell_type": "markdown",
   "metadata": {},
   "source": [
    "Convertimos los tipos de datos"
   ]
  },
  {
   "cell_type": "code",
   "execution_count": 15,
   "metadata": {},
   "outputs": [
    {
     "name": "stderr",
     "output_type": "stream",
     "text": [
      "/var/folders/5k/vqn87b312md3sy0fqhdxhz1c0000gn/T/ipykernel_8154/1647940328.py:1: SettingWithCopyWarning: \n",
      "A value is trying to be set on a copy of a slice from a DataFrame.\n",
      "Try using .loc[row_indexer,col_indexer] = value instead\n",
      "\n",
      "See the caveats in the documentation: https://pandas.pydata.org/pandas-docs/stable/user_guide/indexing.html#returning-a-view-versus-a-copy\n",
      "  df_pesticides_subset['Value'] = pd.to_numeric(df_pesticides_subset['Value'], errors='coerce')\n",
      "/var/folders/5k/vqn87b312md3sy0fqhdxhz1c0000gn/T/ipykernel_8154/1647940328.py:2: SettingWithCopyWarning: \n",
      "A value is trying to be set on a copy of a slice from a DataFrame.\n",
      "Try using .loc[row_indexer,col_indexer] = value instead\n",
      "\n",
      "See the caveats in the documentation: https://pandas.pydata.org/pandas-docs/stable/user_guide/indexing.html#returning-a-view-versus-a-copy\n",
      "  df_pesticides_subset['Year'] = df_pesticides_subset['Year'].astype(int)\n"
     ]
    }
   ],
   "source": [
    "df_pesticides_subset['Value'] = pd.to_numeric(df_pesticides_subset['Value'], errors='coerce')\n",
    "df_pesticides_subset['Year'] = df_pesticides_subset['Year'].astype(int)"
   ]
  },
  {
   "cell_type": "markdown",
   "metadata": {},
   "source": [
    "Manejamos valores nulos en 'Value'"
   ]
  },
  {
   "cell_type": "code",
   "execution_count": 16,
   "metadata": {},
   "outputs": [],
   "source": [
    "df_pesticides_clean = df_pesticides_subset.dropna(subset=['Value'])"
   ]
  },
  {
   "cell_type": "markdown",
   "metadata": {},
   "source": [
    "Guardamos el dataset limpio"
   ]
  },
  {
   "cell_type": "code",
   "execution_count": 17,
   "metadata": {},
   "outputs": [],
   "source": [
    "df_pesticides_clean.to_csv('../../data/processed/pesticides_use_cleaned.csv', index=False)"
   ]
  },
  {
   "cell_type": "markdown",
   "metadata": {},
   "source": [
    "Guardamos una versión intermedia del dataset"
   ]
  },
  {
   "cell_type": "code",
   "execution_count": 18,
   "metadata": {},
   "outputs": [],
   "source": [
    "df_pesticides_subset.to_csv('../../data/interim/pesticides_use_interim.csv', index=False)"
   ]
  },
  {
   "cell_type": "markdown",
   "metadata": {},
   "source": [
    "Verificamos el resultado final"
   ]
  },
  {
   "cell_type": "code",
   "execution_count": 19,
   "metadata": {},
   "outputs": [
    {
     "name": "stdout",
     "output_type": "stream",
     "text": [
      "\n",
      "Primeras filas del dataset limpio:\n",
      "      Area                Item  Year                          Unit  Value\n",
      "0  Albania  Pesticides (Total)  1990  tonnes of active ingredients  121.0\n",
      "1  Albania  Pesticides (Total)  1991  tonnes of active ingredients  121.0\n",
      "2  Albania  Pesticides (Total)  1992  tonnes of active ingredients  121.0\n",
      "3  Albania  Pesticides (Total)  1993  tonnes of active ingredients  121.0\n",
      "4  Albania  Pesticides (Total)  1994  tonnes of active ingredients  201.0\n",
      "\n",
      "Información del dataset limpio:\n",
      "<class 'pandas.core.frame.DataFrame'>\n",
      "RangeIndex: 4349 entries, 0 to 4348\n",
      "Data columns (total 5 columns):\n",
      " #   Column  Non-Null Count  Dtype  \n",
      "---  ------  --------------  -----  \n",
      " 0   Area    4349 non-null   object \n",
      " 1   Item    4349 non-null   object \n",
      " 2   Year    4349 non-null   int64  \n",
      " 3   Unit    4349 non-null   object \n",
      " 4   Value   4349 non-null   float64\n",
      "dtypes: float64(1), int64(1), object(3)\n",
      "memory usage: 170.0+ KB\n",
      "None\n"
     ]
    }
   ],
   "source": [
    "print(\"\\nPrimeras filas del dataset limpio:\")\n",
    "print(df_pesticides_clean.head())\n",
    "print(\"\\nInformación del dataset limpio:\")\n",
    "print(df_pesticides_clean.info())"
   ]
  }
 ],
 "metadata": {
  "kernelspec": {
   "display_name": "env",
   "language": "python",
   "name": "python3"
  },
  "language_info": {
   "codemirror_mode": {
    "name": "ipython",
    "version": 3
   },
   "file_extension": ".py",
   "mimetype": "text/x-python",
   "name": "python",
   "nbconvert_exporter": "python",
   "pygments_lexer": "ipython3",
   "version": "3.12.4"
  }
 },
 "nbformat": 4,
 "nbformat_minor": 2
}

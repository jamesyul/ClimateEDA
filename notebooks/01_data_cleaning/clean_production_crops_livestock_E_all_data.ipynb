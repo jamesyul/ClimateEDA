{
 "cells": [
  {
   "cell_type": "code",
   "execution_count": 52,
   "metadata": {},
   "outputs": [],
   "source": [
    "import pandas as pd\n",
    "import os"
   ]
  },
  {
   "cell_type": "markdown",
   "metadata": {},
   "source": [
    "Se carga el archivo"
   ]
  },
  {
   "cell_type": "code",
   "execution_count": 53,
   "metadata": {},
   "outputs": [
    {
     "name": "stderr",
     "output_type": "stream",
     "text": [
      "/var/folders/5k/vqn87b312md3sy0fqhdxhz1c0000gn/T/ipykernel_2327/2230738950.py:1: DtypeWarning: Columns (11,14,17,20,23,26,29,32,35,38,41,44,47,50,53,56,59,62,65,68,71,74,77,80,83,86,89,92,95,98,101,104,107,110,113,116,119,122,125,128,131,134,137,140,143,146,149,152,155,158,161,164,167,170,173,176,179,182,185,188,191,194,197) have mixed types. Specify dtype option on import or set low_memory=False.\n",
      "  df_production=pd.read_csv('../data/raw/production_crops_livestock_E_all_data.csv', encoding='latin1')\n"
     ]
    }
   ],
   "source": [
    "df_production=pd.read_csv('../data/raw/production_crops_livestock_E_all_data.csv', encoding='latin1')"
   ]
  },
  {
   "cell_type": "markdown",
   "metadata": {},
   "source": [
    "Definimos las columnas para mantener como identificadores"
   ]
  },
  {
   "cell_type": "code",
   "execution_count": 54,
   "metadata": {},
   "outputs": [],
   "source": [
    "id_vars = ['Area Code', 'Area', 'Item Code', 'Item', 'Element Code', 'Element', 'Unit']"
   ]
  },
  {
   "cell_type": "markdown",
   "metadata": {},
   "source": [
    "Identificamos las columnas de años"
   ]
  },
  {
   "cell_type": "code",
   "execution_count": 55,
   "metadata": {},
   "outputs": [],
   "source": [
    "year_columns = [col for col in df_production.columns if col.startswith('Y')]"
   ]
  },
  {
   "cell_type": "markdown",
   "metadata": {},
   "source": [
    "Creamos un subconjunto con las columnas deseadas"
   ]
  },
  {
   "cell_type": "code",
   "execution_count": 56,
   "metadata": {},
   "outputs": [],
   "source": [
    "df_production_subset = df_production[id_vars + year_columns]"
   ]
  },
  {
   "cell_type": "code",
   "execution_count": 57,
   "metadata": {},
   "outputs": [
    {
     "name": "stdout",
     "output_type": "stream",
     "text": [
      "['Area Code', 'Area', 'Item Code', 'Item', 'Element Code', 'Element', 'Unit', 'Y1961', 'Y1961F', 'Y1961N', 'Y1962', 'Y1962F', 'Y1962N', 'Y1963', 'Y1963F', 'Y1963N', 'Y1964', 'Y1964F', 'Y1964N', 'Y1965', 'Y1965F', 'Y1965N', 'Y1966', 'Y1966F', 'Y1966N', 'Y1967', 'Y1967F', 'Y1967N', 'Y1968', 'Y1968F', 'Y1968N', 'Y1969', 'Y1969F', 'Y1969N', 'Y1970', 'Y1970F', 'Y1970N', 'Y1971', 'Y1971F', 'Y1971N', 'Y1972', 'Y1972F', 'Y1972N', 'Y1973', 'Y1973F', 'Y1973N', 'Y1974', 'Y1974F', 'Y1974N', 'Y1975', 'Y1975F', 'Y1975N', 'Y1976', 'Y1976F', 'Y1976N', 'Y1977', 'Y1977F', 'Y1977N', 'Y1978', 'Y1978F', 'Y1978N', 'Y1979', 'Y1979F', 'Y1979N', 'Y1980', 'Y1980F', 'Y1980N', 'Y1981', 'Y1981F', 'Y1981N', 'Y1982', 'Y1982F', 'Y1982N', 'Y1983', 'Y1983F', 'Y1983N', 'Y1984', 'Y1984F', 'Y1984N', 'Y1985', 'Y1985F', 'Y1985N', 'Y1986', 'Y1986F', 'Y1986N', 'Y1987', 'Y1987F', 'Y1987N', 'Y1988', 'Y1988F', 'Y1988N', 'Y1989', 'Y1989F', 'Y1989N', 'Y1990', 'Y1990F', 'Y1990N', 'Y1991', 'Y1991F', 'Y1991N', 'Y1992', 'Y1992F', 'Y1992N', 'Y1993', 'Y1993F', 'Y1993N', 'Y1994', 'Y1994F', 'Y1994N', 'Y1995', 'Y1995F', 'Y1995N', 'Y1996', 'Y1996F', 'Y1996N', 'Y1997', 'Y1997F', 'Y1997N', 'Y1998', 'Y1998F', 'Y1998N', 'Y1999', 'Y1999F', 'Y1999N', 'Y2000', 'Y2000F', 'Y2000N', 'Y2001', 'Y2001F', 'Y2001N', 'Y2002', 'Y2002F', 'Y2002N', 'Y2003', 'Y2003F', 'Y2003N', 'Y2004', 'Y2004F', 'Y2004N', 'Y2005', 'Y2005F', 'Y2005N', 'Y2006', 'Y2006F', 'Y2006N', 'Y2007', 'Y2007F', 'Y2007N', 'Y2008', 'Y2008F', 'Y2008N', 'Y2009', 'Y2009F', 'Y2009N', 'Y2010', 'Y2010F', 'Y2010N', 'Y2011', 'Y2011F', 'Y2011N', 'Y2012', 'Y2012F', 'Y2012N', 'Y2013', 'Y2013F', 'Y2013N', 'Y2014', 'Y2014F', 'Y2014N', 'Y2015', 'Y2015F', 'Y2015N', 'Y2016', 'Y2016F', 'Y2016N', 'Y2017', 'Y2017F', 'Y2017N', 'Y2018', 'Y2018F', 'Y2018N', 'Y2019', 'Y2019F', 'Y2019N', 'Y2020', 'Y2020F', 'Y2020N', 'Y2021', 'Y2021F', 'Y2021N', 'Y2022', 'Y2022F', 'Y2022N', 'Y2023', 'Y2023F', 'Y2023N']\n"
     ]
    }
   ],
   "source": [
    "print(df_production_subset.columns.to_list())"
   ]
  },
  {
   "cell_type": "markdown",
   "metadata": {},
   "source": [
    "Se transforma a formato long"
   ]
  },
  {
   "cell_type": "code",
   "execution_count": 58,
   "metadata": {},
   "outputs": [],
   "source": [
    "df_long = pd.melt(\n",
    "    df_production_subset,\n",
    "    id_vars=id_vars,\n",
    "    value_vars=year_columns,\n",
    "    var_name='Year_Flag',\n",
    "    value_name='Value'\n",
    ")"
   ]
  },
  {
   "cell_type": "markdown",
   "metadata": {},
   "source": [
    "Verificamos las columnas de df_long"
   ]
  },
  {
   "cell_type": "code",
   "execution_count": 59,
   "metadata": {},
   "outputs": [
    {
     "name": "stdout",
     "output_type": "stream",
     "text": [
      "['Area Code', 'Area', 'Item Code', 'Item', 'Element Code', 'Element', 'Unit', 'Year_Flag', 'Value']\n"
     ]
    }
   ],
   "source": [
    "print(df_long.columns.to_list())"
   ]
  },
  {
   "cell_type": "markdown",
   "metadata": {},
   "source": [
    "Extraemos año y tipo"
   ]
  },
  {
   "cell_type": "code",
   "execution_count": 60,
   "metadata": {},
   "outputs": [],
   "source": [
    "df_long['Year'] = df_long['Year_Flag'].str.extract(r'(\\d{4})').astype(int) \n",
    "df_long['Type'] = df_long['Year_Flag'].str.replace(r'Y\\d{4}', '', regex=True)\n",
    "df_long['Type'] = df_long['Type'].replace('', 'Value')"
   ]
  },
  {
   "cell_type": "markdown",
   "metadata": {},
   "source": [
    "Seleccionamos explicitamente las columnas que usaremos"
   ]
  },
  {
   "cell_type": "code",
   "execution_count": 61,
   "metadata": {},
   "outputs": [],
   "source": [
    "df_long = df_long[['Area Code', 'Area', 'Item Code', 'Item', 'Element Code', 'Element', 'Unit', 'Year', 'Type', 'Value']]"
   ]
  },
  {
   "cell_type": "markdown",
   "metadata": {},
   "source": [
    "Verificamos las columnas"
   ]
  },
  {
   "cell_type": "code",
   "execution_count": 62,
   "metadata": {},
   "outputs": [
    {
     "name": "stdout",
     "output_type": "stream",
     "text": [
      "['Area Code', 'Area', 'Item Code', 'Item', 'Element Code', 'Element', 'Unit', 'Year', 'Type', 'Value']\n"
     ]
    }
   ],
   "source": [
    "print(df_long.columns.to_list())"
   ]
  },
  {
   "cell_type": "markdown",
   "metadata": {},
   "source": [
    "Pivotamos para reorganizar datos segun el tipo"
   ]
  },
  {
   "cell_type": "code",
   "execution_count": 63,
   "metadata": {},
   "outputs": [],
   "source": [
    "df_clean = df_long.pivot(\n",
    "    index=['Area Code', 'Area', 'Item Code', 'Item', 'Element Code', 'Element', 'Unit', 'Year'],\n",
    "    columns='Type',\n",
    "    values='Value'\n",
    ").reset_index()"
   ]
  },
  {
   "cell_type": "code",
   "execution_count": 64,
   "metadata": {},
   "outputs": [
    {
     "name": "stdout",
     "output_type": "stream",
     "text": [
      "['Area Code', 'Area', 'Item Code', 'Item', 'Element Code', 'Element', 'Unit', 'Year', 'F', 'N', 'Value']\n"
     ]
    }
   ],
   "source": [
    "print(df_clean.columns.to_list())"
   ]
  },
  {
   "cell_type": "markdown",
   "metadata": {},
   "source": [
    "Renombramos columnas"
   ]
  },
  {
   "cell_type": "code",
   "execution_count": 66,
   "metadata": {},
   "outputs": [],
   "source": [
    "df_clean.columns = ['Area Code', 'Area', 'Item Code', 'Item', 'Element Code', 'Element', 'Unit', 'Year', 'Flag', 'Note', 'Value']"
   ]
  },
  {
   "cell_type": "markdown",
   "metadata": {},
   "source": [
    "Convertimos tipos de datos"
   ]
  },
  {
   "cell_type": "code",
   "execution_count": 67,
   "metadata": {},
   "outputs": [],
   "source": [
    "df_clean['Value']=pd.to_numeric(df_clean['Value'], errors='coerce')"
   ]
  },
  {
   "cell_type": "markdown",
   "metadata": {},
   "source": [
    "Manejamos valores faltantes"
   ]
  },
  {
   "cell_type": "code",
   "execution_count": 68,
   "metadata": {},
   "outputs": [],
   "source": [
    "df_clean=df_clean.dropna(subset=['Value'])"
   ]
  },
  {
   "cell_type": "markdown",
   "metadata": {},
   "source": [
    "Filtramos cultivos de interés"
   ]
  },
  {
   "cell_type": "code",
   "execution_count": 69,
   "metadata": {},
   "outputs": [],
   "source": [
    "df_clean=df_clean[df_clean['Item'].isin([\"Almonds, in shell\"])]"
   ]
  },
  {
   "cell_type": "code",
   "execution_count": null,
   "metadata": {},
   "outputs": [],
   "source": []
  }
 ],
 "metadata": {
  "kernelspec": {
   "display_name": "env",
   "language": "python",
   "name": "python3"
  },
  "language_info": {
   "codemirror_mode": {
    "name": "ipython",
    "version": 3
   },
   "file_extension": ".py",
   "mimetype": "text/x-python",
   "name": "python",
   "nbconvert_exporter": "python",
   "pygments_lexer": "ipython3",
   "version": "3.12.4"
  }
 },
 "nbformat": 4,
 "nbformat_minor": 2
}

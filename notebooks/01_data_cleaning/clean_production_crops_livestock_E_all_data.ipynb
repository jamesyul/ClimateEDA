{
 "cells": [
  {
   "cell_type": "code",
   "execution_count": 73,
   "metadata": {},
   "outputs": [],
   "source": [
    "import pandas as pd\n",
    "import os"
   ]
  },
  {
   "cell_type": "markdown",
   "metadata": {},
   "source": [
    "Se carga el archivo"
   ]
  },
  {
   "cell_type": "code",
   "execution_count": 74,
   "metadata": {},
   "outputs": [
    {
     "name": "stderr",
     "output_type": "stream",
     "text": [
      "/var/folders/5k/vqn87b312md3sy0fqhdxhz1c0000gn/T/ipykernel_1858/836067868.py:1: DtypeWarning: Columns (11,14,17,20,23,26,29,32,35,38,41,44,47,50,53,56,59,62,65,68,71,74,77,80,83,86,89,92,95,98,101,104,107,110,113,116,119,122,125,128,131,134,137,140,143,146,149,152,155,158,161,164,167,170,173,176,179,182,185,188,191,194,197) have mixed types. Specify dtype option on import or set low_memory=False.\n",
      "  df_production=pd.read_csv('../../data/raw/production_crops_livestock_E_all_data.csv', encoding='latin1')\n"
     ]
    }
   ],
   "source": [
    "df_production=pd.read_csv('../../data/raw/production_crops_livestock_E_all_data.csv', encoding='latin1')"
   ]
  },
  {
   "cell_type": "markdown",
   "metadata": {},
   "source": [
    "Realizamos una exploración inicial"
   ]
  },
  {
   "cell_type": "code",
   "execution_count": 75,
   "metadata": {},
   "outputs": [
    {
     "name": "stdout",
     "output_type": "stream",
     "text": [
      "Exploración inicial\n",
      "Primeras filas:\n",
      "   Area Code Area Code (M49)         Area  Item Code Item Code (CPC)  \\\n",
      "0          2            '004  Afghanistan        221          '01371   \n",
      "1          2            '004  Afghanistan        221          '01371   \n",
      "2          2            '004  Afghanistan        221          '01371   \n",
      "3          2            '004  Afghanistan        711          '01654   \n",
      "4          2            '004  Afghanistan        711          '01654   \n",
      "\n",
      "                                                Item  Element Code  \\\n",
      "0                                  Almonds, in shell          5312   \n",
      "1                                  Almonds, in shell          5412   \n",
      "2                                  Almonds, in shell          5510   \n",
      "3  Anise, badian, coriander, cumin, caraway, fenn...          5312   \n",
      "4  Anise, badian, coriander, cumin, caraway, fenn...          5412   \n",
      "\n",
      "          Element   Unit  Y1961  ... Y2020N    Y2021  Y2021F Y2021N    Y2022  \\\n",
      "0  Area harvested     ha    0.0  ...    NaN  36862.0       A    NaN  36462.0   \n",
      "1           Yield  kg/ha    NaN  ...    NaN   1743.2       A    NaN   1742.0   \n",
      "2      Production      t    0.0  ...    NaN  64256.0       A    NaN  63515.0   \n",
      "3  Area harvested     ha    NaN  ...    NaN  25357.0       E    NaN  25403.0   \n",
      "4           Yield  kg/ha    NaN  ...    NaN    705.0       E    NaN    704.0   \n",
      "\n",
      "   Y2022F Y2022N    Y2023  Y2023F Y2023N  \n",
      "0       A    NaN  37000.0       A    NaN  \n",
      "1       A    NaN   1810.8       A    NaN  \n",
      "2       A    NaN  67000.0       A    NaN  \n",
      "3       E    NaN  25439.0       E    NaN  \n",
      "4       E    NaN    704.0       E    NaN  \n",
      "\n",
      "[5 rows x 198 columns]\n",
      "\n",
      "Información del dataset:\n",
      "<class 'pandas.core.frame.DataFrame'>\n",
      "RangeIndex: 79711 entries, 0 to 79710\n",
      "Columns: 198 entries, Area Code to Y2023N\n",
      "dtypes: float64(63), int64(3), object(132)\n",
      "memory usage: 120.4+ MB\n",
      "None\n",
      "\n",
      "Estadísticas descriptivas:\n",
      "          Area Code     Item Code  Element Code         Y1961         Y1962  \\\n",
      "count  79711.000000  79711.000000  79711.000000  5.737000e+04  5.737700e+04   \n",
      "mean    1313.302568    865.879251   5408.833310  1.514965e+06  1.549240e+06   \n",
      "std     2194.895639   1461.515725    101.505636  1.586835e+07  1.615213e+07   \n",
      "min        1.000000     15.000000   5111.000000  0.000000e+00  0.000000e+00   \n",
      "25%       89.000000    358.000000   5312.000000  8.362500e+02  8.625000e+02   \n",
      "50%      169.000000    587.000000   5412.000000  7.500000e+03  7.700000e+03   \n",
      "75%      272.000000   1037.000000   5510.000000  6.655310e+04  6.874600e+04   \n",
      "max     5817.000000  17530.000000   5513.000000  1.342210e+09  1.360092e+09   \n",
      "\n",
      "              Y1963         Y1964         Y1965         Y1966         Y1967  \\\n",
      "count  5.737600e+04  5.739100e+04  5.738600e+04  5.744700e+04  5.745100e+04   \n",
      "mean   1.582932e+06  1.630178e+06  1.663916e+06  1.704733e+06  1.749159e+06   \n",
      "std    1.645200e+07  1.694783e+07  1.731071e+07  1.775626e+07  1.817071e+07   \n",
      "min    0.000000e+00  0.000000e+00  0.000000e+00  0.000000e+00  0.000000e+00   \n",
      "25%    8.929750e+02  9.100000e+02  9.343750e+02  9.500000e+02  9.885000e+02   \n",
      "50%    7.981640e+03  8.000000e+03  8.130950e+03  8.400000e+03  8.647000e+03   \n",
      "75%    7.060525e+04  7.305150e+04  7.500000e+04  7.721212e+04  7.975700e+04   \n",
      "max    1.368767e+09  1.381032e+09  1.397533e+09  1.408673e+09  1.428836e+09   \n",
      "\n",
      "       ...         Y2014         Y2015         Y2016         Y2017  \\\n",
      "count  ...  7.103000e+04  7.109600e+04  7.118300e+04  7.141000e+04   \n",
      "mean   ...  3.156620e+06  3.184441e+06  3.226641e+06  3.273442e+06   \n",
      "std    ...  3.576517e+07  3.611638e+07  3.656186e+07  3.692842e+07   \n",
      "min    ...  0.000000e+00  0.000000e+00  0.000000e+00  0.000000e+00   \n",
      "25%    ...  1.524205e+03  1.543307e+03  1.560000e+03  1.557030e+03   \n",
      "50%    ...  1.207270e+04  1.223683e+04  1.234740e+04  1.237300e+04   \n",
      "75%    ...  1.211520e+05  1.225511e+05  1.234405e+05  1.241075e+05   \n",
      "max    ...  2.818170e+09  2.837867e+09  2.912244e+09  2.961412e+09   \n",
      "\n",
      "              Y2018         Y2019         Y2020         Y2021         Y2022  \\\n",
      "count  7.072900e+04  7.082200e+04  7.093500e+04  7.099100e+04  7.112000e+04   \n",
      "mean   3.329584e+06  3.345364e+06  3.384600e+06  3.464475e+06  3.504832e+06   \n",
      "std    3.735102e+07  3.722087e+07  3.759316e+07  3.870242e+07  3.929182e+07   \n",
      "min    0.000000e+00  0.000000e+00  0.000000e+00  0.000000e+00  0.000000e+00   \n",
      "25%    1.442300e+03  1.433050e+03  1.432300e+03  1.437730e+03  1.441750e+03   \n",
      "50%    1.222000e+04  1.225000e+04  1.218570e+04  1.214760e+04  1.220000e+04   \n",
      "75%    1.255072e+05  1.269745e+05  1.263125e+05  1.270417e+05  1.278680e+05   \n",
      "max    2.901857e+09  2.964207e+09  3.008965e+09  3.070651e+09  3.073689e+09   \n",
      "\n",
      "              Y2023  \n",
      "count  6.614500e+04  \n",
      "mean   3.752891e+06  \n",
      "std    4.156594e+07  \n",
      "min    0.000000e+00  \n",
      "25%    1.389000e+03  \n",
      "50%    1.174500e+04  \n",
      "75%    1.227800e+05  \n",
      "max    3.134294e+09  \n",
      "\n",
      "[8 rows x 66 columns]\n",
      "\n",
      "Valores nulos por columna:\n",
      "Area Code              0\n",
      "Area Code (M49)        0\n",
      "Area                   0\n",
      "Item Code              0\n",
      "Item Code (CPC)        0\n",
      "                   ...  \n",
      "Y2022F              7343\n",
      "Y2022N             78485\n",
      "Y2023              13566\n",
      "Y2023F             12370\n",
      "Y2023N             79158\n",
      "Length: 198, dtype: int64\n"
     ]
    }
   ],
   "source": [
    "print(\"Exploración inicial\")\n",
    "print(\"Primeras filas:\")\n",
    "print(df_production.head())\n",
    "print(\"\\nInformación del dataset:\")\n",
    "print(df_production.info())\n",
    "print(\"\\nEstadísticas descriptivas:\")\n",
    "print(df_production.describe())\n",
    "print(\"\\nValores nulos por columna:\")\n",
    "print(df_production.isnull().sum())"
   ]
  },
  {
   "cell_type": "markdown",
   "metadata": {},
   "source": [
    "Verificamos si existen duplicados"
   ]
  },
  {
   "cell_type": "code",
   "execution_count": 76,
   "metadata": {},
   "outputs": [
    {
     "name": "stdout",
     "output_type": "stream",
     "text": [
      "\n",
      "Número de duplicados: 0\n"
     ]
    }
   ],
   "source": [
    "print(\"\\nNúmero de duplicados:\", df_production.duplicated().sum())\n",
    "df_production = df_production.drop_duplicates()"
   ]
  },
  {
   "cell_type": "markdown",
   "metadata": {},
   "source": [
    "Definimos las columnas para mantener como identificadores"
   ]
  },
  {
   "cell_type": "code",
   "execution_count": 77,
   "metadata": {},
   "outputs": [],
   "source": [
    "id_vars = ['Area Code', 'Area', 'Item Code', 'Item', 'Element Code', 'Element', 'Unit']"
   ]
  },
  {
   "cell_type": "markdown",
   "metadata": {},
   "source": [
    "Identificamos las columnas de años"
   ]
  },
  {
   "cell_type": "code",
   "execution_count": 78,
   "metadata": {},
   "outputs": [],
   "source": [
    "year_columns = [col for col in df_production.columns if col.startswith('Y')]"
   ]
  },
  {
   "cell_type": "markdown",
   "metadata": {},
   "source": [
    "Creamos un subconjunto con las columnas deseadas"
   ]
  },
  {
   "cell_type": "code",
   "execution_count": 79,
   "metadata": {},
   "outputs": [],
   "source": [
    "df_production_subset = df_production[id_vars + year_columns]"
   ]
  },
  {
   "cell_type": "code",
   "execution_count": 80,
   "metadata": {},
   "outputs": [
    {
     "name": "stdout",
     "output_type": "stream",
     "text": [
      "['Area Code', 'Area', 'Item Code', 'Item', 'Element Code', 'Element', 'Unit', 'Y1961', 'Y1961F', 'Y1961N', 'Y1962', 'Y1962F', 'Y1962N', 'Y1963', 'Y1963F', 'Y1963N', 'Y1964', 'Y1964F', 'Y1964N', 'Y1965', 'Y1965F', 'Y1965N', 'Y1966', 'Y1966F', 'Y1966N', 'Y1967', 'Y1967F', 'Y1967N', 'Y1968', 'Y1968F', 'Y1968N', 'Y1969', 'Y1969F', 'Y1969N', 'Y1970', 'Y1970F', 'Y1970N', 'Y1971', 'Y1971F', 'Y1971N', 'Y1972', 'Y1972F', 'Y1972N', 'Y1973', 'Y1973F', 'Y1973N', 'Y1974', 'Y1974F', 'Y1974N', 'Y1975', 'Y1975F', 'Y1975N', 'Y1976', 'Y1976F', 'Y1976N', 'Y1977', 'Y1977F', 'Y1977N', 'Y1978', 'Y1978F', 'Y1978N', 'Y1979', 'Y1979F', 'Y1979N', 'Y1980', 'Y1980F', 'Y1980N', 'Y1981', 'Y1981F', 'Y1981N', 'Y1982', 'Y1982F', 'Y1982N', 'Y1983', 'Y1983F', 'Y1983N', 'Y1984', 'Y1984F', 'Y1984N', 'Y1985', 'Y1985F', 'Y1985N', 'Y1986', 'Y1986F', 'Y1986N', 'Y1987', 'Y1987F', 'Y1987N', 'Y1988', 'Y1988F', 'Y1988N', 'Y1989', 'Y1989F', 'Y1989N', 'Y1990', 'Y1990F', 'Y1990N', 'Y1991', 'Y1991F', 'Y1991N', 'Y1992', 'Y1992F', 'Y1992N', 'Y1993', 'Y1993F', 'Y1993N', 'Y1994', 'Y1994F', 'Y1994N', 'Y1995', 'Y1995F', 'Y1995N', 'Y1996', 'Y1996F', 'Y1996N', 'Y1997', 'Y1997F', 'Y1997N', 'Y1998', 'Y1998F', 'Y1998N', 'Y1999', 'Y1999F', 'Y1999N', 'Y2000', 'Y2000F', 'Y2000N', 'Y2001', 'Y2001F', 'Y2001N', 'Y2002', 'Y2002F', 'Y2002N', 'Y2003', 'Y2003F', 'Y2003N', 'Y2004', 'Y2004F', 'Y2004N', 'Y2005', 'Y2005F', 'Y2005N', 'Y2006', 'Y2006F', 'Y2006N', 'Y2007', 'Y2007F', 'Y2007N', 'Y2008', 'Y2008F', 'Y2008N', 'Y2009', 'Y2009F', 'Y2009N', 'Y2010', 'Y2010F', 'Y2010N', 'Y2011', 'Y2011F', 'Y2011N', 'Y2012', 'Y2012F', 'Y2012N', 'Y2013', 'Y2013F', 'Y2013N', 'Y2014', 'Y2014F', 'Y2014N', 'Y2015', 'Y2015F', 'Y2015N', 'Y2016', 'Y2016F', 'Y2016N', 'Y2017', 'Y2017F', 'Y2017N', 'Y2018', 'Y2018F', 'Y2018N', 'Y2019', 'Y2019F', 'Y2019N', 'Y2020', 'Y2020F', 'Y2020N', 'Y2021', 'Y2021F', 'Y2021N', 'Y2022', 'Y2022F', 'Y2022N', 'Y2023', 'Y2023F', 'Y2023N']\n"
     ]
    }
   ],
   "source": [
    "print(df_production_subset.columns.to_list())"
   ]
  },
  {
   "cell_type": "markdown",
   "metadata": {},
   "source": [
    "Se transforma a formato long"
   ]
  },
  {
   "cell_type": "code",
   "execution_count": 81,
   "metadata": {},
   "outputs": [],
   "source": [
    "df_long = pd.melt(\n",
    "    df_production_subset,\n",
    "    id_vars=id_vars,\n",
    "    value_vars=year_columns,\n",
    "    var_name='Year_Flag',\n",
    "    value_name='Value'\n",
    ")"
   ]
  },
  {
   "cell_type": "markdown",
   "metadata": {},
   "source": [
    "Verificamos las columnas de df_long"
   ]
  },
  {
   "cell_type": "code",
   "execution_count": 82,
   "metadata": {},
   "outputs": [
    {
     "name": "stdout",
     "output_type": "stream",
     "text": [
      "['Area Code', 'Area', 'Item Code', 'Item', 'Element Code', 'Element', 'Unit', 'Year_Flag', 'Value']\n"
     ]
    }
   ],
   "source": [
    "print(df_long.columns.to_list())"
   ]
  },
  {
   "cell_type": "markdown",
   "metadata": {},
   "source": [
    "Extraemos año y tipo"
   ]
  },
  {
   "cell_type": "code",
   "execution_count": 83,
   "metadata": {},
   "outputs": [],
   "source": [
    "df_long['Year'] = df_long['Year_Flag'].str.extract(r'(\\d{4})').astype(int) \n",
    "df_long['Type'] = df_long['Year_Flag'].str.replace(r'Y\\d{4}', '', regex=True)\n",
    "df_long['Type'] = df_long['Type'].replace('', 'Value')"
   ]
  },
  {
   "cell_type": "markdown",
   "metadata": {},
   "source": [
    "Seleccionamos explicitamente las columnas que usaremos"
   ]
  },
  {
   "cell_type": "code",
   "execution_count": 84,
   "metadata": {},
   "outputs": [],
   "source": [
    "df_long = df_long[['Area Code', 'Area', 'Item Code', 'Item', 'Element Code', 'Element', 'Unit', 'Year', 'Type', 'Value']]"
   ]
  },
  {
   "cell_type": "markdown",
   "metadata": {},
   "source": [
    "Verificamos las columnas"
   ]
  },
  {
   "cell_type": "code",
   "execution_count": 85,
   "metadata": {},
   "outputs": [
    {
     "name": "stdout",
     "output_type": "stream",
     "text": [
      "['Area Code', 'Area', 'Item Code', 'Item', 'Element Code', 'Element', 'Unit', 'Year', 'Type', 'Value']\n"
     ]
    }
   ],
   "source": [
    "print(df_long.columns.to_list())"
   ]
  },
  {
   "cell_type": "markdown",
   "metadata": {},
   "source": [
    "Pivotamos para reorganizar datos segun el tipo"
   ]
  },
  {
   "cell_type": "code",
   "execution_count": 86,
   "metadata": {},
   "outputs": [],
   "source": [
    "df_clean = df_long.pivot(\n",
    "    index=['Area Code', 'Area', 'Item Code', 'Item', 'Element Code', 'Element', 'Unit', 'Year'],\n",
    "    columns='Type',\n",
    "    values='Value'\n",
    ").reset_index()"
   ]
  },
  {
   "cell_type": "code",
   "execution_count": 87,
   "metadata": {},
   "outputs": [
    {
     "name": "stdout",
     "output_type": "stream",
     "text": [
      "['Area Code', 'Area', 'Item Code', 'Item', 'Element Code', 'Element', 'Unit', 'Year', 'F', 'N', 'Value']\n"
     ]
    }
   ],
   "source": [
    "print(df_clean.columns.to_list())"
   ]
  },
  {
   "cell_type": "markdown",
   "metadata": {},
   "source": [
    "Renombramos columnas"
   ]
  },
  {
   "cell_type": "code",
   "execution_count": 88,
   "metadata": {},
   "outputs": [],
   "source": [
    "df_clean.columns = ['Area Code', 'Area', 'Item Code', 'Item', 'Element Code', 'Element', 'Unit', 'Year', 'Flag', 'Note', 'Value']"
   ]
  },
  {
   "cell_type": "markdown",
   "metadata": {},
   "source": [
    "Estandarizamos formatos de columnas categóricas"
   ]
  },
  {
   "cell_type": "code",
   "execution_count": 89,
   "metadata": {},
   "outputs": [],
   "source": [
    "df_clean['Area'] = df_clean['Area'].str.strip().str.title()\n",
    "df_clean['Item'] = df_clean['Item'].str.strip().str.title()\n",
    "df_clean['Element'] = df_clean['Element'].str.strip().str.title()"
   ]
  },
  {
   "cell_type": "markdown",
   "metadata": {},
   "source": [
    "Convertimos tipos de datos"
   ]
  },
  {
   "cell_type": "code",
   "execution_count": 90,
   "metadata": {},
   "outputs": [],
   "source": [
    "df_clean['Value']=pd.to_numeric(df_clean['Value'], errors='coerce')"
   ]
  },
  {
   "cell_type": "markdown",
   "metadata": {},
   "source": [
    "Manejamos valores faltantes"
   ]
  },
  {
   "cell_type": "code",
   "execution_count": 91,
   "metadata": {},
   "outputs": [],
   "source": [
    "df_clean=df_clean.dropna(subset=['Value'])"
   ]
  },
  {
   "cell_type": "code",
   "execution_count": 92,
   "metadata": {},
   "outputs": [],
   "source": [
    "df_clean.to_csv('../../data/processed/production_crops_cleaned.csv', index=False)"
   ]
  },
  {
   "cell_type": "markdown",
   "metadata": {},
   "source": [
    "Filtramos cultivos de interés"
   ]
  },
  {
   "cell_type": "code",
   "execution_count": 93,
   "metadata": {},
   "outputs": [],
   "source": [
    "#df_clean=df_clean[df_clean['Item'].isin([\"Almonds, in shell\"])]"
   ]
  },
  {
   "cell_type": "markdown",
   "metadata": {},
   "source": [
    "Guardamos el dataset limpio"
   ]
  },
  {
   "cell_type": "code",
   "execution_count": 94,
   "metadata": {},
   "outputs": [],
   "source": [
    "#df_clean.to_csv('../../data/processed/almonds_production_cleaned.csv', index=False)"
   ]
  },
  {
   "cell_type": "markdown",
   "metadata": {},
   "source": [
    "Guardamos una opción intermedia de forma opcional"
   ]
  },
  {
   "cell_type": "code",
   "execution_count": 95,
   "metadata": {},
   "outputs": [],
   "source": [
    "df_long.to_csv('../../data/interim/production_crops_interim.csv', index=False)"
   ]
  },
  {
   "cell_type": "markdown",
   "metadata": {},
   "source": [
    "Verificamos el resultado final"
   ]
  },
  {
   "cell_type": "code",
   "execution_count": 96,
   "metadata": {},
   "outputs": [
    {
     "name": "stdout",
     "output_type": "stream",
     "text": [
      "\n",
      "Primeras filas del dataset limpio:\n",
      "    Area Code     Area  Item Code   Item  Element Code         Element Unit  \\\n",
      "31          1  Armenia         15  Wheat          5312  Area Harvested   ha   \n",
      "32          1  Armenia         15  Wheat          5312  Area Harvested   ha   \n",
      "33          1  Armenia         15  Wheat          5312  Area Harvested   ha   \n",
      "34          1  Armenia         15  Wheat          5312  Area Harvested   ha   \n",
      "35          1  Armenia         15  Wheat          5312  Area Harvested   ha   \n",
      "\n",
      "    Year Flag               Note    Value  \n",
      "31  1992    X  Unofficial figure  65500.0  \n",
      "32  1993    X  Unofficial figure  97900.0  \n",
      "33  1994    A                NaN  85697.0  \n",
      "34  1995    A                NaN  60362.0  \n",
      "35  1996    A                NaN  85450.0  \n",
      "\n",
      "Información del dataset limpio:\n",
      "<class 'pandas.core.frame.DataFrame'>\n",
      "Index: 4047502 entries, 31 to 5021792\n",
      "Data columns (total 11 columns):\n",
      " #   Column        Dtype  \n",
      "---  ------        -----  \n",
      " 0   Area Code     int64  \n",
      " 1   Area          object \n",
      " 2   Item Code     int64  \n",
      " 3   Item          object \n",
      " 4   Element Code  int64  \n",
      " 5   Element       object \n",
      " 6   Unit          object \n",
      " 7   Year          int64  \n",
      " 8   Flag          object \n",
      " 9   Note          object \n",
      " 10  Value         float64\n",
      "dtypes: float64(1), int64(4), object(6)\n",
      "memory usage: 370.6+ MB\n",
      "None\n"
     ]
    }
   ],
   "source": [
    "print(\"\\nPrimeras filas del dataset limpio:\")\n",
    "print(df_clean.head())\n",
    "print(\"\\nInformación del dataset limpio:\")\n",
    "print(df_clean.info())"
   ]
  },
  {
   "cell_type": "markdown",
   "metadata": {},
   "source": []
  }
 ],
 "metadata": {
  "kernelspec": {
   "display_name": "env",
   "language": "python",
   "name": "python3"
  },
  "language_info": {
   "codemirror_mode": {
    "name": "ipython",
    "version": 3
   },
   "file_extension": ".py",
   "mimetype": "text/x-python",
   "name": "python",
   "nbconvert_exporter": "python",
   "pygments_lexer": "ipython3",
   "version": "3.12.4"
  }
 },
 "nbformat": 4,
 "nbformat_minor": 2
}

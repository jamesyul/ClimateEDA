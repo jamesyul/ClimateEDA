{
 "cells": [
  {
   "cell_type": "markdown",
   "metadata": {},
   "source": [
    "Importamos las librerías necesarias"
   ]
  },
  {
   "cell_type": "code",
   "execution_count": 23,
   "metadata": {},
   "outputs": [],
   "source": [
    "import pandas as pd\n",
    "import os"
   ]
  },
  {
   "cell_type": "markdown",
   "metadata": {},
   "source": [
    "Cargamos el archivo a analizar"
   ]
  },
  {
   "cell_type": "code",
   "execution_count": 24,
   "metadata": {},
   "outputs": [],
   "source": [
    "df_area_codes = pd.read_csv('../../../data/raw/reference/Production_Crops_Livestock_E_AreaCodes.csv')"
   ]
  },
  {
   "cell_type": "markdown",
   "metadata": {},
   "source": [
    "Realizamos una exploración inicial"
   ]
  },
  {
   "cell_type": "code",
   "execution_count": 25,
   "metadata": {},
   "outputs": [
    {
     "name": "stdout",
     "output_type": "stream",
     "text": [
      "Exploración inicial\n",
      "Primeras filas:\n",
      "   Area Code M49 Code         Area\n",
      "0          2     '004  Afghanistan\n",
      "1       5100     '002       Africa\n",
      "2          3     '008      Albania\n",
      "3          4     '012      Algeria\n",
      "4       5200     '019     Americas\n",
      "\n",
      "Información del dataset:\n",
      "<class 'pandas.core.frame.DataFrame'>\n",
      "RangeIndex: 245 entries, 0 to 244\n",
      "Data columns (total 3 columns):\n",
      " #   Column     Non-Null Count  Dtype \n",
      "---  ------     --------------  ----- \n",
      " 0   Area Code  245 non-null    int64 \n",
      " 1   M49 Code   245 non-null    object\n",
      " 2   Area       245 non-null    object\n",
      "dtypes: int64(1), object(2)\n",
      "memory usage: 5.9+ KB\n",
      "None\n",
      "\n",
      "Valores nulos por columna:\n",
      "Area Code    0\n",
      "M49 Code     0\n",
      "Area         0\n",
      "dtype: int64\n"
     ]
    }
   ],
   "source": [
    "print(\"Exploración inicial\")\n",
    "print(\"Primeras filas:\")\n",
    "print(df_area_codes.head())\n",
    "print(\"\\nInformación del dataset:\")\n",
    "print(df_area_codes.info())\n",
    "print(\"\\nValores nulos por columna:\")\n",
    "print(df_area_codes.isnull().sum())"
   ]
  },
  {
   "cell_type": "markdown",
   "metadata": {},
   "source": [
    "Verificamos duplicados"
   ]
  },
  {
   "cell_type": "code",
   "execution_count": 26,
   "metadata": {},
   "outputs": [
    {
     "name": "stdout",
     "output_type": "stream",
     "text": [
      "\n",
      "Número de duplicados: 0\n"
     ]
    }
   ],
   "source": [
    "print(\"\\nNúmero de duplicados:\", df_area_codes.duplicated().sum())\n",
    "df_area_codes = df_area_codes.drop_duplicates()"
   ]
  },
  {
   "cell_type": "markdown",
   "metadata": {},
   "source": [
    "Corregimos el formato de 'M49 Code'"
   ]
  },
  {
   "cell_type": "code",
   "execution_count": 27,
   "metadata": {},
   "outputs": [],
   "source": [
    "df_area_codes['M49 Code'] = df_area_codes['M49 Code'].str.strip(\"'\").str.strip()"
   ]
  },
  {
   "cell_type": "markdown",
   "metadata": {},
   "source": [
    "Estandarizamos formatos de columnas categóricas"
   ]
  },
  {
   "cell_type": "code",
   "execution_count": 28,
   "metadata": {},
   "outputs": [],
   "source": [
    "df_area_codes['Area'] = df_area_codes['Area'].str.strip().str.title()"
   ]
  },
  {
   "cell_type": "markdown",
   "metadata": {},
   "source": [
    "Manejamos valores nulos en caso exista"
   ]
  },
  {
   "cell_type": "code",
   "execution_count": 29,
   "metadata": {},
   "outputs": [],
   "source": [
    "df_area_codes = df_area_codes.dropna(subset=['Area Code', 'Area'])"
   ]
  },
  {
   "cell_type": "markdown",
   "metadata": {},
   "source": [
    "Guardamos el dataset limpio"
   ]
  },
  {
   "cell_type": "code",
   "execution_count": 30,
   "metadata": {},
   "outputs": [],
   "source": [
    "df_area_codes.to_csv('../../../data/processed/reference/area_codes_cleaned.csv', index=False)"
   ]
  },
  {
   "cell_type": "markdown",
   "metadata": {},
   "source": [
    "Verificamos el resultado final"
   ]
  },
  {
   "cell_type": "code",
   "execution_count": 31,
   "metadata": {},
   "outputs": [
    {
     "name": "stdout",
     "output_type": "stream",
     "text": [
      "\n",
      "Primeras filas del dataset limpio:\n",
      "   Area Code M49 Code         Area\n",
      "0          2      004  Afghanistan\n",
      "1       5100      002       Africa\n",
      "2          3      008      Albania\n",
      "3          4      012      Algeria\n",
      "4       5200      019     Americas\n",
      "\n",
      "Información del dataset limpio:\n",
      "<class 'pandas.core.frame.DataFrame'>\n",
      "RangeIndex: 245 entries, 0 to 244\n",
      "Data columns (total 3 columns):\n",
      " #   Column     Non-Null Count  Dtype \n",
      "---  ------     --------------  ----- \n",
      " 0   Area Code  245 non-null    int64 \n",
      " 1   M49 Code   245 non-null    object\n",
      " 2   Area       245 non-null    object\n",
      "dtypes: int64(1), object(2)\n",
      "memory usage: 5.9+ KB\n",
      "None\n"
     ]
    }
   ],
   "source": [
    "print(\"\\nPrimeras filas del dataset limpio:\")\n",
    "print(df_area_codes.head())\n",
    "print(\"\\nInformación del dataset limpio:\")\n",
    "print(df_area_codes.info())"
   ]
  }
 ],
 "metadata": {
  "kernelspec": {
   "display_name": "env",
   "language": "python",
   "name": "python3"
  },
  "language_info": {
   "codemirror_mode": {
    "name": "ipython",
    "version": 3
   },
   "file_extension": ".py",
   "mimetype": "text/x-python",
   "name": "python",
   "nbconvert_exporter": "python",
   "pygments_lexer": "ipython3",
   "version": "3.12.4"
  }
 },
 "nbformat": 4,
 "nbformat_minor": 2
}

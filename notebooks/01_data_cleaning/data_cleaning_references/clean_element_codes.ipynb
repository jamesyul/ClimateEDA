{
 "cells": [
  {
   "cell_type": "markdown",
   "metadata": {},
   "source": [
    "Importamos las bibliotecas necesarias"
   ]
  },
  {
   "cell_type": "code",
   "execution_count": 42,
   "metadata": {},
   "outputs": [],
   "source": [
    "import pandas as pd\n",
    "import os"
   ]
  },
  {
   "cell_type": "markdown",
   "metadata": {},
   "source": [
    "Cargamos el archivo a analizar"
   ]
  },
  {
   "cell_type": "code",
   "execution_count": 43,
   "metadata": {},
   "outputs": [],
   "source": [
    "df_element_codes = pd.read_csv('../../../data/raw/reference/Production_Crops_Livestock_E_Elements.csv')"
   ]
  },
  {
   "cell_type": "markdown",
   "metadata": {},
   "source": [
    "Realizamos una exploración inicial"
   ]
  },
  {
   "cell_type": "code",
   "execution_count": 44,
   "metadata": {},
   "outputs": [
    {
     "name": "stdout",
     "output_type": "stream",
     "text": [
      "### Exploración inicial ###\n",
      "Primeras filas:\n",
      "   Element Code          Element\n",
      "0          5312   Area harvested\n",
      "1          5423  Extraction Rate\n",
      "2          5313           Laying\n",
      "3          5318     Milk Animals\n",
      "4          5319     Prod Popultn\n",
      "\n",
      "Información del dataset:\n",
      "<class 'pandas.core.frame.DataFrame'>\n",
      "RangeIndex: 22 entries, 0 to 21\n",
      "Data columns (total 2 columns):\n",
      " #   Column        Non-Null Count  Dtype \n",
      "---  ------        --------------  ----- \n",
      " 0   Element Code  22 non-null     int64 \n",
      " 1   Element       22 non-null     object\n",
      "dtypes: int64(1), object(1)\n",
      "memory usage: 484.0+ bytes\n",
      "None\n",
      "\n",
      "Valores nulos por columna:\n",
      "Element Code    0\n",
      "Element         0\n",
      "dtype: int64\n"
     ]
    }
   ],
   "source": [
    "print(\"### Exploración inicial ###\")\n",
    "print(\"Primeras filas:\")\n",
    "print(df_element_codes.head())\n",
    "print(\"\\nInformación del dataset:\")\n",
    "print(df_element_codes.info())\n",
    "print(\"\\nValores nulos por columna:\")\n",
    "print(df_element_codes.isnull().sum())"
   ]
  },
  {
   "cell_type": "markdown",
   "metadata": {},
   "source": [
    "Verificamos duplicados"
   ]
  },
  {
   "cell_type": "code",
   "execution_count": 45,
   "metadata": {},
   "outputs": [
    {
     "name": "stdout",
     "output_type": "stream",
     "text": [
      "\n",
      "Número de duplicados: 0\n"
     ]
    }
   ],
   "source": [
    "print(\"\\nNúmero de duplicados:\", df_element_codes.duplicated().sum())\n",
    "df_element_codes = df_element_codes.drop_duplicates()"
   ]
  },
  {
   "cell_type": "markdown",
   "metadata": {},
   "source": [
    "Verificamos duplicados en 'Element Code'"
   ]
  },
  {
   "cell_type": "code",
   "execution_count": 46,
   "metadata": {},
   "outputs": [
    {
     "name": "stdout",
     "output_type": "stream",
     "text": [
      "\n",
      "Número de duplicados en 'Element Code': 0\n"
     ]
    }
   ],
   "source": [
    "print(\"\\nNúmero de duplicados en 'Element Code':\", df_element_codes['Element Code'].duplicated().sum())"
   ]
  },
  {
   "cell_type": "markdown",
   "metadata": {},
   "source": [
    "Si hay duplicados, mantenemos el primero"
   ]
  },
  {
   "cell_type": "code",
   "execution_count": 47,
   "metadata": {},
   "outputs": [],
   "source": [
    "df_element_codes = df_element_codes.drop_duplicates(subset=['Element Code'], keep='first')"
   ]
  },
  {
   "cell_type": "markdown",
   "metadata": {},
   "source": [
    "Estandarizamos foramtos de columnas categóricas"
   ]
  },
  {
   "cell_type": "code",
   "execution_count": 48,
   "metadata": {},
   "outputs": [],
   "source": [
    "df_element_codes['Element'] = df_element_codes['Element'].str.strip().str.title()"
   ]
  },
  {
   "cell_type": "markdown",
   "metadata": {},
   "source": [
    "Manejamos valores nulos en caso exista"
   ]
  },
  {
   "cell_type": "code",
   "execution_count": 49,
   "metadata": {},
   "outputs": [],
   "source": [
    "df_element_codes = df_element_codes.dropna(subset=['Element Code', 'Element'])"
   ]
  },
  {
   "cell_type": "markdown",
   "metadata": {},
   "source": [
    "Guardamos el dataset limpio"
   ]
  },
  {
   "cell_type": "code",
   "execution_count": 50,
   "metadata": {},
   "outputs": [],
   "source": [
    "df_element_codes.to_csv('../../../data/processed/reference/element_codes_cleaned.csv', index=False)"
   ]
  },
  {
   "cell_type": "markdown",
   "metadata": {},
   "source": [
    "Verificamos el resultado final"
   ]
  },
  {
   "cell_type": "code",
   "execution_count": 51,
   "metadata": {},
   "outputs": [
    {
     "name": "stdout",
     "output_type": "stream",
     "text": [
      "\n",
      "Primeras filas del dataset limpio:\n",
      "   Element Code          Element\n",
      "0          5312   Area Harvested\n",
      "1          5423  Extraction Rate\n",
      "2          5313           Laying\n",
      "3          5318     Milk Animals\n",
      "4          5319     Prod Popultn\n",
      "\n",
      "Información del dataset limpio:\n",
      "<class 'pandas.core.frame.DataFrame'>\n",
      "RangeIndex: 22 entries, 0 to 21\n",
      "Data columns (total 2 columns):\n",
      " #   Column        Non-Null Count  Dtype \n",
      "---  ------        --------------  ----- \n",
      " 0   Element Code  22 non-null     int64 \n",
      " 1   Element       22 non-null     object\n",
      "dtypes: int64(1), object(1)\n",
      "memory usage: 484.0+ bytes\n",
      "None\n"
     ]
    }
   ],
   "source": [
    "print(\"\\nPrimeras filas del dataset limpio:\")\n",
    "print(df_element_codes.head())\n",
    "print(\"\\nInformación del dataset limpio:\")\n",
    "print(df_element_codes.info())"
   ]
  }
 ],
 "metadata": {
  "kernelspec": {
   "display_name": "env",
   "language": "python",
   "name": "python3"
  },
  "language_info": {
   "codemirror_mode": {
    "name": "ipython",
    "version": 3
   },
   "file_extension": ".py",
   "mimetype": "text/x-python",
   "name": "python",
   "nbconvert_exporter": "python",
   "pygments_lexer": "ipython3",
   "version": "3.12.4"
  }
 },
 "nbformat": 4,
 "nbformat_minor": 2
}

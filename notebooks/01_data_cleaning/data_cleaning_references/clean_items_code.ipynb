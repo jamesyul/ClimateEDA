{
 "cells": [
  {
   "cell_type": "markdown",
   "metadata": {},
   "source": [
    "Importamos bibliotecas necesarias"
   ]
  },
  {
   "cell_type": "code",
   "execution_count": 4,
   "metadata": {},
   "outputs": [],
   "source": [
    "import pandas as pd\n",
    "import os"
   ]
  },
  {
   "cell_type": "markdown",
   "metadata": {},
   "source": [
    "Cargamos el archivo a analizar"
   ]
  },
  {
   "cell_type": "code",
   "execution_count": 5,
   "metadata": {},
   "outputs": [],
   "source": [
    "df_items_code = pd.read_csv('../../../data/raw/reference/Production_Crops_Livestock_E_ItemCodes.csv')"
   ]
  },
  {
   "cell_type": "markdown",
   "metadata": {},
   "source": [
    "Realizamos la exploración inicial"
   ]
  },
  {
   "cell_type": "code",
   "execution_count": 6,
   "metadata": {},
   "outputs": [
    {
     "name": "stdout",
     "output_type": "stream",
     "text": [
      "### Exploración inicial ###\n",
      "Primeras filas:\n",
      "   Item Code CPC Code                                            Item\n",
      "0        101   '01195                                     Canary seed\n",
      "1       1016   '02123                                           Goats\n",
      "2       1017   '21116                  Meat of goat; fresh or chilled\n",
      "3       1018   '21156  Edible offal of goat; fresh; chilled or frozen\n",
      "4       1019   '21515                            Goat fat; unrendered\n",
      "\n",
      "Información del dataset:\n",
      "<class 'pandas.core.frame.DataFrame'>\n",
      "RangeIndex: 307 entries, 0 to 306\n",
      "Data columns (total 3 columns):\n",
      " #   Column     Non-Null Count  Dtype \n",
      "---  ------     --------------  ----- \n",
      " 0   Item Code  307 non-null    int64 \n",
      " 1   CPC Code   307 non-null    object\n",
      " 2   Item       307 non-null    object\n",
      "dtypes: int64(1), object(2)\n",
      "memory usage: 7.3+ KB\n",
      "None\n",
      "\n",
      "Valores nulos por columna:\n",
      "Item Code    0\n",
      "CPC Code     0\n",
      "Item         0\n",
      "dtype: int64\n"
     ]
    }
   ],
   "source": [
    "print(\"### Exploración inicial ###\")\n",
    "print(\"Primeras filas:\")\n",
    "print(df_items_code.head())\n",
    "print(\"\\nInformación del dataset:\")\n",
    "print(df_items_code.info())\n",
    "print(\"\\nValores nulos por columna:\")\n",
    "print(df_items_code.isnull().sum())"
   ]
  },
  {
   "cell_type": "markdown",
   "metadata": {},
   "source": [
    "Verificamos duplicados"
   ]
  },
  {
   "cell_type": "code",
   "execution_count": 7,
   "metadata": {},
   "outputs": [
    {
     "name": "stdout",
     "output_type": "stream",
     "text": [
      "\n",
      "Número de duplicados: 0\n"
     ]
    }
   ],
   "source": [
    "print(\"\\nNúmero de duplicados:\", df_items_code.duplicated().sum())\n",
    "df_items_code = df_items_code.drop_duplicates()"
   ]
  },
  {
   "cell_type": "markdown",
   "metadata": {},
   "source": [
    "Estandarizamos formatos de columnas categóricas"
   ]
  },
  {
   "cell_type": "code",
   "execution_count": 8,
   "metadata": {},
   "outputs": [],
   "source": [
    "df_items_code['Item'] = df_items_code['Item'].str.strip().str.title()\n",
    "df_items_code['CPC Code'] = df_items_code['CPC Code'].str.strip()"
   ]
  },
  {
   "cell_type": "markdown",
   "metadata": {},
   "source": [
    "Manejamos valores nulos en caso exista"
   ]
  },
  {
   "cell_type": "code",
   "execution_count": 9,
   "metadata": {},
   "outputs": [],
   "source": [
    "df_items_code = df_items_code.dropna(subset=['Item'])"
   ]
  },
  {
   "cell_type": "markdown",
   "metadata": {},
   "source": [
    "Guardamos el dataset limpio"
   ]
  },
  {
   "cell_type": "code",
   "execution_count": 10,
   "metadata": {},
   "outputs": [],
   "source": [
    "df_items_code.to_csv('../../../data/processed/items_code_cleaned.csv', index=False)"
   ]
  },
  {
   "cell_type": "markdown",
   "metadata": {},
   "source": [
    "Verificamos el resultado final"
   ]
  },
  {
   "cell_type": "code",
   "execution_count": 11,
   "metadata": {},
   "outputs": [
    {
     "name": "stdout",
     "output_type": "stream",
     "text": [
      "\n",
      "Primeras filas del dataset limpio:\n",
      "   Item Code CPC Code                                            Item\n",
      "0        101   '01195                                     Canary Seed\n",
      "1       1016   '02123                                           Goats\n",
      "2       1017   '21116                  Meat Of Goat; Fresh Or Chilled\n",
      "3       1018   '21156  Edible Offal Of Goat; Fresh; Chilled Or Frozen\n",
      "4       1019   '21515                            Goat Fat; Unrendered\n",
      "\n",
      "Información del dataset limpio:\n",
      "<class 'pandas.core.frame.DataFrame'>\n",
      "RangeIndex: 307 entries, 0 to 306\n",
      "Data columns (total 3 columns):\n",
      " #   Column     Non-Null Count  Dtype \n",
      "---  ------     --------------  ----- \n",
      " 0   Item Code  307 non-null    int64 \n",
      " 1   CPC Code   307 non-null    object\n",
      " 2   Item       307 non-null    object\n",
      "dtypes: int64(1), object(2)\n",
      "memory usage: 7.3+ KB\n",
      "None\n"
     ]
    }
   ],
   "source": [
    "print(\"\\nPrimeras filas del dataset limpio:\")\n",
    "print(df_items_code.head())\n",
    "print(\"\\nInformación del dataset limpio:\")\n",
    "print(df_items_code.info())"
   ]
  }
 ],
 "metadata": {
  "kernelspec": {
   "display_name": "env",
   "language": "python",
   "name": "python3"
  },
  "language_info": {
   "codemirror_mode": {
    "name": "ipython",
    "version": 3
   },
   "file_extension": ".py",
   "mimetype": "text/x-python",
   "name": "python",
   "nbconvert_exporter": "python",
   "pygments_lexer": "ipython3",
   "version": "3.12.4"
  }
 },
 "nbformat": 4,
 "nbformat_minor": 2
}
